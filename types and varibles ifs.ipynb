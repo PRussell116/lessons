{
 "cells": [
  {
   "cell_type": "code",
   "execution_count": 1,
   "metadata": {},
   "outputs": [
    {
     "name": "stdout",
     "output_type": "stream",
     "text": [
      "hello world\n"
     ]
    }
   ],
   "source": [
    "print(\"hello world\")\n"
   ]
  },
  {
   "cell_type": "markdown",
   "metadata": {},
   "source": [
    "We can store data in a varible. "
   ]
  },
  {
   "cell_type": "code",
   "execution_count": 1,
   "metadata": {},
   "outputs": [
    {
     "name": "stdout",
     "output_type": "stream",
     "text": [
      "bob\n"
     ]
    }
   ],
   "source": [
    "name = \"bob\"\n",
    "print(name)"
   ]
  },
  {
   "cell_type": "markdown",
   "metadata": {},
   "source": [
    "code runs line by line, varibles can be overwritten.\n"
   ]
  },
  {
   "cell_type": "code",
   "execution_count": 2,
   "metadata": {},
   "outputs": [
    {
     "name": "stdout",
     "output_type": "stream",
     "text": [
      "bob\n",
      "alice\n"
     ]
    }
   ],
   "source": [
    "name = \"bob\"\n",
    "print(name)\n",
    "name = \"alice\"\n",
    "print(name)"
   ]
  },
  {
   "cell_type": "markdown",
   "metadata": {},
   "source": [
    "What would be the output of the following code?\n"
   ]
  },
  {
   "cell_type": "code",
   "execution_count": null,
   "metadata": {},
   "outputs": [],
   "source": [
    "name = \"Jack\"\n",
    "name = \"Jackie\"\n",
    "name = \"Jackson\" \n",
    "print(name)"
   ]
  },
  {
   "cell_type": "markdown",
   "metadata": {},
   "source": [
    "Data in varibles can be different types. The values that we have been using are strings or str for short. Strings are basically text they can be any character including special characters like new line (\\n). Strings are contained in \" \"."
   ]
  },
  {
   "cell_type": "code",
   "execution_count": 5,
   "metadata": {},
   "outputs": [
    {
     "name": "stdout",
     "output_type": "stream",
     "text": [
      "<class 'str'>\n",
      "<class 'str'>\n",
      "<class 'str'>\n",
      "<class 'str'>\n",
      "hello \n",
      " there\n"
     ]
    }
   ],
   "source": [
    "print(type(\"Jackie\"))\n",
    "print(type(\"100\"))\n",
    "print(type(\"*\"))\n",
    "\n",
    "print(type(\"\\n\"))\n",
    "print(\"hello \\n there\")"
   ]
  },
  {
   "cell_type": "markdown",
   "metadata": {},
   "source": [
    "Another type is Integer or int for short. These are whole numbers i.e no decimals. You can perfom maths with these numbers except for division as that could make a number with decimals. "
   ]
  },
  {
   "cell_type": "code",
   "execution_count": 7,
   "metadata": {},
   "outputs": [
    {
     "name": "stdout",
     "output_type": "stream",
     "text": [
      "<class 'int'>\n",
      "8\n",
      "90\n",
      "15\n"
     ]
    }
   ],
   "source": [
    "print(type(100))\n",
    "\n",
    "print(5+3)\n",
    "\n",
    "print(10*9)\n",
    "\n",
    "answer = 40 - 25\n",
    "print(answer)\n",
    "\n"
   ]
  },
  {
   "cell_type": "markdown",
   "metadata": {},
   "source": [
    "In python numbers with decimals are called floats, you can still do all the same types of maths"
   ]
  },
  {
   "cell_type": "code",
   "execution_count": 1,
   "metadata": {},
   "outputs": [
    {
     "name": "stdout",
     "output_type": "stream",
     "text": [
      "8.7\n",
      "51.0\n",
      "<class 'float'>\n",
      "33.333333333333336\n",
      "<class 'float'>\n"
     ]
    }
   ],
   "source": [
    "print(8.5+0.2)\n",
    "\n",
    "print(0.5* 102)\n",
    "\n",
    "print(type(8.1))\n",
    "\n",
    "notAnInt = 100/3\n",
    "print(notAnInt)\n",
    "print(type(notAnInt))"
   ]
  },
  {
   "cell_type": "markdown",
   "metadata": {},
   "source": [
    "What would be the output of the following code?"
   ]
  },
  {
   "cell_type": "code",
   "execution_count": 11,
   "metadata": {},
   "outputs": [
    {
     "name": "stdout",
     "output_type": "stream",
     "text": [
      "<class 'float'>\n",
      "<class 'str'>\n"
     ]
    }
   ],
   "source": [
    "print(type(0.0))\n",
    "\n",
    "number = \"1.0\"\n",
    "print(type(number))"
   ]
  },
  {
   "cell_type": "markdown",
   "metadata": {},
   "source": [
    "Bool or boolean is another type. bool only has 2 values True and False. These values can be inversed using not  meaning that true becomes false and false becomes true"
   ]
  },
  {
   "cell_type": "code",
   "execution_count": 17,
   "metadata": {},
   "outputs": [
    {
     "name": "stdout",
     "output_type": "stream",
     "text": [
      "<class 'bool'>\n",
      "<class 'bool'>\n",
      "True\n",
      "False\n"
     ]
    }
   ],
   "source": [
    "print(type(True))\n",
    "\n",
    "print(type(False))\n",
    "\n",
    "print(True)\n",
    "\n",
    "print(not True)"
   ]
  },
  {
   "cell_type": "code",
   "execution_count": 16,
   "metadata": {},
   "outputs": [
    {
     "name": "stdout",
     "output_type": "stream",
     "text": [
      "True\n",
      "False\n"
     ]
    }
   ],
   "source": [
    "#What would print from the code below\n",
    "\n",
    "print(not not True)\n",
    "\n",
    "print(not not not not False)"
   ]
  },
  {
   "cell_type": "markdown",
   "metadata": {},
   "source": [
    "In python you can ask for the user to input something with the input() function"
   ]
  },
  {
   "cell_type": "code",
   "execution_count": 13,
   "metadata": {},
   "outputs": [
    {
     "name": "stdout",
     "output_type": "stream",
     "text": [
      "hello barry\n"
     ]
    }
   ],
   "source": [
    "name = input(\"what is your name?\")\n",
    "print(\"hello \" + name)"
   ]
  },
  {
   "cell_type": "markdown",
   "metadata": {},
   "source": [
    "Using the input fuction and the type funcion write something that prints doubles number that the user inputted"
   ]
  },
  {
   "cell_type": "code",
   "execution_count": 14,
   "metadata": {},
   "outputs": [
    {
     "name": "stdout",
     "output_type": "stream",
     "text": [
      "<class 'str'>\n"
     ]
    }
   ],
   "source": [
    "# your code goes here\n"
   ]
  },
  {
   "cell_type": "markdown",
   "metadata": {},
   "source": [
    "The if statment is the most important tool in programming it checks if something is then does something if it is.\n",
    "\n",
    "if  ( condition ) \n",
    "     \n",
    "     does something\n",
    "\n",
    "\n",
    "if the condition is false it skips the code in the if statement"
   ]
  },
  {
   "cell_type": "code",
   "execution_count": 15,
   "metadata": {},
   "outputs": [],
   "source": [
    "isItRaining = False # try changing this to True\n",
    "if(isItRaining):\n",
    "    print(\"get an umbrella\")\n"
   ]
  },
  {
   "cell_type": "markdown",
   "metadata": {},
   "source": [
    "To check if something is equal we use == , if they are equal it gives true. If they are not equal it gives false\n",
    "\n",
    "the if statment can be expanded using else, if the condition is not true the else part will be run"
   ]
  },
  {
   "cell_type": "code",
   "execution_count": null,
   "metadata": {},
   "outputs": [],
   "source": [
    "age = 8\n",
    "if(age == 8):\n",
    "    print(\"you are 8\")\n",
    "else:\n",
    "    print(\"you are not eight\")"
   ]
  },
  {
   "cell_type": "markdown",
   "metadata": {},
   "source": [
    "Less than < and greater than > can be used in if statments.\n",
    "\n",
    "elif or else if can be used to add another condition"
   ]
  },
  {
   "cell_type": "code",
   "execution_count": null,
   "metadata": {},
   "outputs": [],
   "source": [
    "age = 70 # try changing this value\n",
    "if(age > 65):\n",
    "    print(\"are old\")\n",
    "elif(age > 90):\n",
    "    print(\"you are very old\")\n",
    "else:\n",
    "    print(\"you are not that old\")"
   ]
  },
  {
   "cell_type": "markdown",
   "metadata": {},
   "source": [
    "using the input fuction and an if statment write a program that asks someones name and if their name is bob print a message"
   ]
  },
  {
   "cell_type": "code",
   "execution_count": null,
   "metadata": {},
   "outputs": [],
   "source": [
    "# your code goes here"
   ]
  },
  {
   "cell_type": "markdown",
   "metadata": {},
   "source": [
    "Using the input fuction write a program that asks the user their name if their name if bob or alice print a special message, else print hello followed by their name"
   ]
  },
  {
   "cell_type": "code",
   "execution_count": null,
   "metadata": {},
   "outputs": [],
   "source": [
    "# your code goes here"
   ]
  },
  {
   "cell_type": "markdown",
   "metadata": {},
   "source": [
    "write a program which checks the type of a varible and prints a message if it is an int"
   ]
  },
  {
   "cell_type": "code",
   "execution_count": null,
   "metadata": {},
   "outputs": [],
   "source": [
    "varibleToCheck = 100 #try changing this to different types e.g. \"a\" for string\n",
    "# your code goes here"
   ]
  },
  {
   "cell_type": "markdown",
   "metadata": {},
   "source": [
    "Using the input fuction write a program which squares an input number and if that number is less than 100 print that is less than 100. if it is larger than 100 print that it is larger than 100"
   ]
  },
  {
   "cell_type": "code",
   "execution_count": null,
   "metadata": {},
   "outputs": [],
   "source": [
    "# your code goes here"
   ]
  },
  {
   "cell_type": "markdown",
   "metadata": {},
   "source": [
    "Using the input fuction write a program to ask for someones name and print hello followed by their name if their name is not joe"
   ]
  },
  {
   "cell_type": "code",
   "execution_count": null,
   "metadata": {},
   "outputs": [],
   "source": [
    "#your code goes here"
   ]
  }
 ],
 "metadata": {
  "interpreter": {
   "hash": "e8a9d9c0049f770700a924b5114098157d74b7b63c723a7981c84b33246f8fc4"
  },
  "kernelspec": {
   "display_name": "Python 3.10.4 64-bit",
   "language": "python",
   "name": "python3"
  },
  "language_info": {
   "codemirror_mode": {
    "name": "ipython",
    "version": 3
   },
   "file_extension": ".py",
   "mimetype": "text/x-python",
   "name": "python",
   "nbconvert_exporter": "python",
   "pygments_lexer": "ipython3",
   "version": "3.10.4"
  },
  "orig_nbformat": 4
 },
 "nbformat": 4,
 "nbformat_minor": 2
}
