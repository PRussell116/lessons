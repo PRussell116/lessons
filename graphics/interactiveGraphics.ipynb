{
 "cells": [
  {
   "cell_type": "code",
   "execution_count": 2,
   "metadata": {},
   "outputs": [],
   "source": [
    "from graphics import *\n"
   ]
  },
  {
   "cell_type": "code",
   "execution_count": 3,
   "metadata": {},
   "outputs": [
    {
     "name": "stdout",
     "output_type": "stream",
     "text": [
      "128.0 101.0\n"
     ]
    }
   ],
   "source": [
    "win = GraphWin(\"click me\")\n",
    "p = win.getMouse()\n",
    "print(p.getX(),p.getY())\n",
    "p.draw(win)\n",
    "\n",
    "win.getMouse()\n",
    "win.close()\n",
    "\n"
   ]
  },
  {
   "cell_type": "markdown",
   "metadata": {},
   "source": [
    "Use a for loop to modify the above code to allow the user to click 5 points"
   ]
  },
  {
   "cell_type": "code",
   "execution_count": null,
   "metadata": {},
   "outputs": [],
   "source": [
    "win = GraphWin()\n",
    "#your code goes here\n",
    "\n",
    "\n",
    "\n",
    "\n",
    "win.getKey()\n",
    "win.close()\n"
   ]
  },
  {
   "cell_type": "markdown",
   "metadata": {},
   "source": [
    "Write a fuction that draws a blue circle with radius 50 wherever the user clicks"
   ]
  },
  {
   "cell_type": "code",
   "execution_count": null,
   "metadata": {},
   "outputs": [],
   "source": []
  },
  {
   "cell_type": "markdown",
   "metadata": {},
   "source": [
    "Write a fuction that draws a line from 2 points that the user clicks"
   ]
  },
  {
   "cell_type": "code",
   "execution_count": null,
   "metadata": {},
   "outputs": [],
   "source": []
  },
  {
   "cell_type": "markdown",
   "metadata": {},
   "source": [
    "Write a fuction that allows to draw 10 lines like the previous fuction"
   ]
  },
  {
   "cell_type": "code",
   "execution_count": null,
   "metadata": {},
   "outputs": [],
   "source": []
  },
  {
   "cell_type": "markdown",
   "metadata": {},
   "source": [
    "We can get inputs from the window using Entry() this needs the point from where to enter data\n",
    "\n",
    "this sets the color of a rectangle to the input after clicking"
   ]
  },
  {
   "cell_type": "code",
   "execution_count": 4,
   "metadata": {},
   "outputs": [],
   "source": [
    "win = GraphWin(\"entry example\",500,500)\n",
    "\n",
    "box = Rectangle(Point(100,100),Point(400,400))\n",
    "box.draw(win)\n",
    "\n",
    "inputBox = Entry(Point(480,480),10)\n",
    "inputBox.draw(win)\n",
    "win.getMouse()\n",
    "\n",
    "box.setFill(inputBox.getText())\n",
    "\n",
    "win.getMouse()\n",
    "win.close()\n"
   ]
  },
  {
   "cell_type": "markdown",
   "metadata": {},
   "source": [
    "Modify the above code so that the color can be changed 4 times"
   ]
  },
  {
   "cell_type": "markdown",
   "metadata": {},
   "source": [
    "Write a fuction that allows the user to draw 10 colored rectangles on the screen. The user should choose the top left and bottom right corners of the rectangle and the color is chosen using an input box."
   ]
  },
  {
   "cell_type": "code",
   "execution_count": null,
   "metadata": {},
   "outputs": [],
   "source": []
  },
  {
   "cell_type": "code",
   "execution_count": null,
   "metadata": {},
   "outputs": [],
   "source": [
    "from graphics import *"
   ]
  }
 ],
 "metadata": {
  "interpreter": {
   "hash": "68a4255ffac02f175910f4ac8746557d0bd2381bbe75a048e653626df842db98"
  },
  "kernelspec": {
   "display_name": "Python 3.10.4 64-bit",
   "language": "python",
   "name": "python3"
  },
  "language_info": {
   "codemirror_mode": {
    "name": "ipython",
    "version": 3
   },
   "file_extension": ".py",
   "mimetype": "text/x-python",
   "name": "python",
   "nbconvert_exporter": "python",
   "pygments_lexer": "ipython3",
   "version": "3.10.4"
  },
  "orig_nbformat": 4
 },
 "nbformat": 4,
 "nbformat_minor": 2
}
