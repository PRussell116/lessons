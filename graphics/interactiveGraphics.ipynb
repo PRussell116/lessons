{
 "cells": [
  {
   "cell_type": "code",
   "execution_count": null,
   "metadata": {},
   "outputs": [],
   "source": [
    "from graphics import *\n",
    "from graphics.graphics import *"
   ]
  },
  {
   "cell_type": "code",
   "execution_count": 3,
   "metadata": {},
   "outputs": [
    {
     "name": "stdout",
     "output_type": "stream",
     "text": [
      "96.0 79.0\n"
     ]
    },
    {
     "ename": "GraphicsError",
     "evalue": "getMouse in closed window",
     "output_type": "error",
     "traceback": [
      "\u001b[1;31m---------------------------------------------------------------------------\u001b[0m",
      "\u001b[1;31mGraphicsError\u001b[0m                             Traceback (most recent call last)",
      "\u001b[1;32mc:\\Users\\tania\\OneDrive\\Documents\\lessons\\graphics\\interactiveGraphics.ipynb Cell 2'\u001b[0m in \u001b[0;36m<cell line: 6>\u001b[1;34m()\u001b[0m\n\u001b[0;32m      <a href='vscode-notebook-cell:/c%3A/Users/tania/OneDrive/Documents/lessons/graphics/interactiveGraphics.ipynb#ch0000001?line=2'>3</a>\u001b[0m \u001b[39mprint\u001b[39m(p\u001b[39m.\u001b[39mgetX(),p\u001b[39m.\u001b[39mgetY())\n\u001b[0;32m      <a href='vscode-notebook-cell:/c%3A/Users/tania/OneDrive/Documents/lessons/graphics/interactiveGraphics.ipynb#ch0000001?line=3'>4</a>\u001b[0m p\u001b[39m.\u001b[39mdraw(win)\n\u001b[1;32m----> <a href='vscode-notebook-cell:/c%3A/Users/tania/OneDrive/Documents/lessons/graphics/interactiveGraphics.ipynb#ch0000001?line=5'>6</a>\u001b[0m win\u001b[39m.\u001b[39;49mgetMouse()\n\u001b[0;32m      <a href='vscode-notebook-cell:/c%3A/Users/tania/OneDrive/Documents/lessons/graphics/interactiveGraphics.ipynb#ch0000001?line=6'>7</a>\u001b[0m win\u001b[39m.\u001b[39mclose()\n",
      "File \u001b[1;32mc:\\Users\\tania\\OneDrive\\Documents\\lessons\\graphics\\graphics.py:314\u001b[0m, in \u001b[0;36mGraphWin.getMouse\u001b[1;34m(self)\u001b[0m\n\u001b[0;32m    312\u001b[0m \u001b[39mwhile\u001b[39;00m \u001b[39mself\u001b[39m\u001b[39m.\u001b[39mmouseX \u001b[39m==\u001b[39m \u001b[39mNone\u001b[39;00m \u001b[39mor\u001b[39;00m \u001b[39mself\u001b[39m\u001b[39m.\u001b[39mmouseY \u001b[39m==\u001b[39m \u001b[39mNone\u001b[39;00m:\n\u001b[0;32m    313\u001b[0m     \u001b[39mself\u001b[39m\u001b[39m.\u001b[39mupdate()\n\u001b[1;32m--> 314\u001b[0m     \u001b[39mif\u001b[39;00m \u001b[39mself\u001b[39m\u001b[39m.\u001b[39misClosed(): \u001b[39mraise\u001b[39;00m GraphicsError(\u001b[39m\"\u001b[39m\u001b[39mgetMouse in closed window\u001b[39m\u001b[39m\"\u001b[39m)\n\u001b[0;32m    315\u001b[0m     time\u001b[39m.\u001b[39msleep(\u001b[39m.1\u001b[39m) \u001b[39m# give up thread\u001b[39;00m\n\u001b[0;32m    316\u001b[0m x,y \u001b[39m=\u001b[39m \u001b[39mself\u001b[39m\u001b[39m.\u001b[39mtoWorld(\u001b[39mself\u001b[39m\u001b[39m.\u001b[39mmouseX, \u001b[39mself\u001b[39m\u001b[39m.\u001b[39mmouseY)\n",
      "\u001b[1;31mGraphicsError\u001b[0m: getMouse in closed window"
     ]
    }
   ],
   "source": [
    "win = GraphWin(\"click me\")\n",
    "p = win.getMouse()\n",
    "print(p.getX(),p.getY())\n",
    "p.draw(win)\n",
    "\n",
    "win.getMouse()\n",
    "win.close()\n",
    "\n"
   ]
  },
  {
   "cell_type": "markdown",
   "metadata": {},
   "source": [
    "Use a for loop to modify the above code to allow the user to click 5 points"
   ]
  },
  {
   "cell_type": "code",
   "execution_count": null,
   "metadata": {},
   "outputs": [],
   "source": [
    "win = GraphWin()\n",
    "#your code goes here\n",
    "\n",
    "\n",
    "\n",
    "\n",
    "win.getKey()\n",
    "win.close()\n"
   ]
  },
  {
   "cell_type": "markdown",
   "metadata": {},
   "source": [
    "Write a fuction that draws a blue circle with radius 50 wherever the user clicks"
   ]
  },
  {
   "cell_type": "code",
   "execution_count": null,
   "metadata": {},
   "outputs": [],
   "source": []
  },
  {
   "cell_type": "markdown",
   "metadata": {},
   "source": [
    "Write a fuction that draws a line from 2 points that the user clicks"
   ]
  },
  {
   "cell_type": "code",
   "execution_count": null,
   "metadata": {},
   "outputs": [],
   "source": []
  },
  {
   "cell_type": "markdown",
   "metadata": {},
   "source": [
    "Write a fuction that allows to draw 10 lines like the previous fuction"
   ]
  },
  {
   "cell_type": "code",
   "execution_count": null,
   "metadata": {},
   "outputs": [],
   "source": []
  },
  {
   "cell_type": "markdown",
   "metadata": {},
   "source": [
    "We can get inputs from the window using Entry() this needs the point from where to enter data"
   ]
  },
  {
   "cell_type": "code",
   "execution_count": null,
   "metadata": {},
   "outputs": [],
   "source": [
    "win = GraphWin(\"entry example\",500,500)\n",
    "\n",
    "box = Rectangle(Point(100,100),Point(400,400))\n",
    "box.draw(win)\n",
    "\n",
    "inputBox = Entry(Point(480,480),10)\n",
    "inputBox.draw(win)\n",
    "win.getMouse()\n",
    "\n",
    "box.setFill(inputBox.getText())\n",
    "\n",
    "win.getMouse()\n",
    "win.close()\n"
   ]
  },
  {
   "cell_type": "markdown",
   "metadata": {},
   "source": [
    "Modify the above code so that the color can be changed 4 times"
   ]
  },
  {
   "cell_type": "markdown",
   "metadata": {},
   "source": [
    "Write a fuction that allows the user to draw 10 colored rectangles on the screen. The user should choose the top left and bottom right corners of the rectangle and the color is chosen using an input box."
   ]
  },
  {
   "cell_type": "code",
   "execution_count": null,
   "metadata": {},
   "outputs": [],
   "source": []
  }
 ],
 "metadata": {
  "interpreter": {
   "hash": "68a4255ffac02f175910f4ac8746557d0bd2381bbe75a048e653626df842db98"
  },
  "kernelspec": {
   "display_name": "Python 3.10.4 64-bit",
   "language": "python",
   "name": "python3"
  },
  "language_info": {
   "codemirror_mode": {
    "name": "ipython",
    "version": 3
   },
   "file_extension": ".py",
   "mimetype": "text/x-python",
   "name": "python",
   "nbconvert_exporter": "python",
   "pygments_lexer": "ipython3",
   "version": "3.10.4"
  },
  "orig_nbformat": 4
 },
 "nbformat": 4,
 "nbformat_minor": 2
}
