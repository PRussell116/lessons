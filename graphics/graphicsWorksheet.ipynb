{
 "cells": [
  {
   "cell_type": "markdown",
   "metadata": {},
   "source": [
    "Complete the fuction to draw a stick man by drawing the arms and legs"
   ]
  },
  {
   "cell_type": "code",
   "execution_count": 3,
   "metadata": {},
   "outputs": [],
   "source": [
    "win = GraphWin(\"Stickman\",500,500)\n",
    "head = Circle(Point(250,50),50)\n",
    "head.draw(win)\n",
    "\n",
    "body = Line(Point(250,100),Point(250,250))\n",
    "body.draw(win)\n",
    "\n",
    "win.getMouse()\n",
    "win.close()\n"
   ]
  },
  {
   "cell_type": "markdown",
   "metadata": {},
   "source": [
    "Write a draw circle fuction that asks the user for a radius and draw a circle in the centre of the screen with that radius"
   ]
  },
  {
   "cell_type": "code",
   "execution_count": null,
   "metadata": {},
   "outputs": [],
   "source": []
  },
  {
   "cell_type": "markdown",
   "metadata": {},
   "source": [
    "Write a fuction that draws an archery target, the inner most circle is yellow then red then blue\n",
    "\n",
    "The red circle should have twice the radius of the yellow and the blue should have 3 times the radius of the yellow\n",
    "\n",
    "hint : objects drawn later will appear on top of objects drawn earlier"
   ]
  },
  {
   "cell_type": "code",
   "execution_count": null,
   "metadata": {},
   "outputs": [],
   "source": []
  },
  {
   "cell_type": "markdown",
   "metadata": {},
   "source": [
    "Write a draw rectangle fuction that asks the user for the height and the width of a rectangle and draws it in the centre of the window\n",
    "\n",
    "Hint : you need to work out the coordinates of the top left and bottom left points, think about how much space should be above and to the left of the rectangle"
   ]
  },
  {
   "cell_type": "code",
   "execution_count": null,
   "metadata": {},
   "outputs": [],
   "source": [
    "win = GraphWin(\"rectangle\",400,400)"
   ]
  },
  {
   "cell_type": "code",
   "execution_count": 2,
   "metadata": {},
   "outputs": [
    {
     "ename": "ModuleNotFoundError",
     "evalue": "No module named 'graphics.graphics'; 'graphics' is not a package",
     "output_type": "error",
     "traceback": [
      "\u001b[1;31m---------------------------------------------------------------------------\u001b[0m",
      "\u001b[1;31mModuleNotFoundError\u001b[0m                       Traceback (most recent call last)",
      "\u001b[1;32mc:\\Users\\tania\\OneDrive\\Documents\\lessons\\graphics\\graphicsWorksheet.ipynb Cell 9'\u001b[0m in \u001b[0;36m<cell line: 2>\u001b[1;34m()\u001b[0m\n\u001b[0;32m      <a href='vscode-notebook-cell:/c%3A/Users/tania/OneDrive/Documents/lessons/graphics/graphicsWorksheet.ipynb#ch0000008?line=0'>1</a>\u001b[0m \u001b[39mfrom\u001b[39;00m \u001b[39mgraphics\u001b[39;00m \u001b[39mimport\u001b[39;00m \u001b[39m*\u001b[39m\n\u001b[1;32m----> <a href='vscode-notebook-cell:/c%3A/Users/tania/OneDrive/Documents/lessons/graphics/graphicsWorksheet.ipynb#ch0000008?line=1'>2</a>\u001b[0m \u001b[39mfrom\u001b[39;00m \u001b[39mgraphics\u001b[39;00m\u001b[39m.\u001b[39;00m\u001b[39mgraphics\u001b[39;00m \u001b[39mimport\u001b[39;00m \u001b[39m*\u001b[39m\n",
      "\u001b[1;31mModuleNotFoundError\u001b[0m: No module named 'graphics.graphics'; 'graphics' is not a package"
     ]
    }
   ],
   "source": [
    "from graphics import *\n",
    "from graphics.graphics import *"
   ]
  }
 ],
 "metadata": {
  "interpreter": {
   "hash": "68a4255ffac02f175910f4ac8746557d0bd2381bbe75a048e653626df842db98"
  },
  "kernelspec": {
   "display_name": "Python 3.10.4 64-bit",
   "language": "python",
   "name": "python3"
  },
  "language_info": {
   "codemirror_mode": {
    "name": "ipython",
    "version": 3
   },
   "file_extension": ".py",
   "mimetype": "text/x-python",
   "name": "python",
   "nbconvert_exporter": "python",
   "pygments_lexer": "ipython3",
   "version": "3.10.4"
  },
  "orig_nbformat": 4
 },
 "nbformat": 4,
 "nbformat_minor": 2
}
