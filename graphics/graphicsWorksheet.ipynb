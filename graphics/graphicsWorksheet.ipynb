{
 "cells": [
  {
   "cell_type": "markdown",
   "metadata": {},
   "source": [
    "Complete the fuction to draw a stick man by drawing the arms and legs"
   ]
  },
  {
   "cell_type": "code",
   "execution_count": null,
   "metadata": {},
   "outputs": [],
   "source": [
    "win = GraphWin(\"Stickman\",500,500)\n",
    "head = Circle(Point(250,50),50)\n",
    "head.draw(win)\n",
    "\n",
    "body = Line(Point(250,100),Point(250,250))\n",
    "body.draw(win)\n",
    "\n",
    "win.getMouse()\n",
    "win.close()\n"
   ]
  },
  {
   "cell_type": "markdown",
   "metadata": {},
   "source": [
    "Write a draw circle fuction that asks the user for a radius and draw a circle in the centre of the screen with that radius"
   ]
  },
  {
   "cell_type": "code",
   "execution_count": null,
   "metadata": {},
   "outputs": [],
   "source": []
  },
  {
   "cell_type": "markdown",
   "metadata": {},
   "source": [
    "Write a fuction that draws an archery target, the inner most circle is yellow then red then blue\n",
    "\n",
    "The red circle should have twice the radius of the yellow and the blue should have 3 times the radius of the yellow\n",
    "\n",
    "hint : objects drawn later will appear on top of objects drawn earlier"
   ]
  },
  {
   "cell_type": "code",
   "execution_count": null,
   "metadata": {},
   "outputs": [],
   "source": []
  },
  {
   "cell_type": "markdown",
   "metadata": {},
   "source": [
    "Write a draw rectangle fuction that asks the user for the height and the width of a rectangle and draws it in the centre of the window\n",
    "\n",
    "Hint : you need to work out the coordinates of the top left and bottom left points, think about how much space should be above and to the left of the rectangle"
   ]
  },
  {
   "cell_type": "code",
   "execution_count": null,
   "metadata": {},
   "outputs": [],
   "source": [
    "win = GraphWin(\"rectangle\",400,400)"
   ]
  },
  {
   "cell_type": "code",
   "execution_count": null,
   "metadata": {},
   "outputs": [],
   "source": [
    "from graphics import *\n",
    "from graphics.graphics import *"
   ]
  }
 ],
 "metadata": {
  "interpreter": {
   "hash": "68a4255ffac02f175910f4ac8746557d0bd2381bbe75a048e653626df842db98"
  },
  "kernelspec": {
   "display_name": "Python 3.10.4 64-bit",
   "language": "python",
   "name": "python3"
  },
  "language_info": {
   "codemirror_mode": {
    "name": "ipython",
    "version": 3
   },
   "file_extension": ".py",
   "mimetype": "text/x-python",
   "name": "python",
   "nbconvert_exporter": "python",
   "pygments_lexer": "ipython3",
   "version": "3.10.4"
  },
  "orig_nbformat": 4
 },
 "nbformat": 4,
 "nbformat_minor": 2
}
