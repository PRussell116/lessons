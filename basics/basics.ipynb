{
 "cells": [
  {
   "cell_type": "markdown",
   "metadata": {},
   "source": [
    "https://www.w3schools.com/python/exercise.asp?filename=exercise_variables1"
   ]
  },
  {
   "cell_type": "markdown",
   "metadata": {},
   "source": [
    "Given two integer numbers return their product only if the product is greater than 1000, else return their sum"
   ]
  },
  {
   "cell_type": "code",
   "execution_count": null,
   "metadata": {},
   "outputs": [],
   "source": [
    "num1 = 60\n",
    "\n",
    "num2 = 20\n",
    "product = num1 * num2\n",
    "if (product >1000):\n",
    "    print (product)\n",
    "else :\n",
    "    sum=num1 + num2\n",
    "    print(sum)"
   ]
  },
  {
   "cell_type": "markdown",
   "metadata": {},
   "source": [
    "Given 3 integer print the average\n",
    "\n",
    "expected : 5.67"
   ]
  },
  {
   "cell_type": "code",
   "execution_count": 24,
   "metadata": {},
   "outputs": [
    {
     "name": "stdout",
     "output_type": "stream",
     "text": [
      "6.666666666666667\n"
     ]
    }
   ],
   "source": [
    "num1 = 5\n",
    "num2 = 9\n",
    "num3 = 6\n",
    "average = (num1 + num2 + num3) / 3\n",
    "print (average)"
   ]
  },
  {
   "cell_type": "markdown",
   "metadata": {},
   "source": [
    "Given 2 integers print the smallest"
   ]
  },
  {
   "cell_type": "code",
   "execution_count": 25,
   "metadata": {},
   "outputs": [
    {
     "name": "stdout",
     "output_type": "stream",
     "text": [
      "2\n"
     ]
    }
   ],
   "source": [
    "num1 = 3\n",
    "num2 = 2\n",
    "if (num1 > num2):\n",
    "    print (num2)\n",
    "else: print(num1)"
   ]
  },
  {
   "cell_type": "markdown",
   "metadata": {},
   "source": [
    "Print the length of a sentence"
   ]
  },
  {
   "cell_type": "code",
   "execution_count": 26,
   "metadata": {},
   "outputs": [
    {
     "name": "stdout",
     "output_type": "stream",
     "text": [
      "18\n"
     ]
    }
   ],
   "source": [
    "sentence = \"This is a sentence\"\n",
    "print(len(sentence))"
   ]
  },
  {
   "cell_type": "markdown",
   "metadata": {},
   "source": [
    "Given 2 strings print the larger string"
   ]
  },
  {
   "cell_type": "code",
   "execution_count": 27,
   "metadata": {},
   "outputs": [
    {
     "name": "stdout",
     "output_type": "stream",
     "text": [
      "this is a larger string\n"
     ]
    }
   ],
   "source": [
    "str1 = \"this is a string\"\n",
    "str2 = \"this is a larger string\"\n",
    "if (len(str1)> len (str2)):\n",
    "    print (str1)\n",
    "else: print (str2)"
   ]
  },
  {
   "cell_type": "markdown",
   "metadata": {},
   "source": [
    "% or mod can be used to find the remainder, this is useful for finding if a number is divisible"
   ]
  },
  {
   "cell_type": "code",
   "execution_count": null,
   "metadata": {},
   "outputs": [],
   "source": [
    "print(5 % 3)\n",
    "\n",
    "print(10 % 2)"
   ]
  },
  {
   "cell_type": "markdown",
   "metadata": {},
   "source": [
    "What would the following print?"
   ]
  },
  {
   "cell_type": "code",
   "execution_count": null,
   "metadata": {},
   "outputs": [],
   "source": [
    "print(100 % 10)\n",
    "\n",
    "print(8 % 1)\n",
    "\n",
    "print(3 % 2)"
   ]
  },
  {
   "cell_type": "markdown",
   "metadata": {},
   "source": [
    "Print if a number is even or odd\n",
    "\n",
    "**hint** : all even numbers are divisible by 2"
   ]
  },
  {
   "cell_type": "code",
   "execution_count": null,
   "metadata": {},
   "outputs": [],
   "source": [
    "number = int(input(\"Enter a number\"))\n",
    "if (number % 2 = 0):\n",
    "    print (\"even\")\n",
    "else : print(\"odd\")"
   ]
  },
  {
   "cell_type": "markdown",
   "metadata": {},
   "source": [
    "Fizz buzz, given a number if it is divisible by 3 print fizz if it is divisable by 5 print buzz, if it is divisible by both print fizz buzz.\n",
    "\n",
    "if it is not divisible by either print the number\n",
    "\n",
    "\n",
    "hint : % can be used to find the remainder\n",
    "\n",
    "\n",
    "Example :\n",
    "|Input | Output |\n",
    "| ----------- | ----------- |\n",
    "| 6| Fizz |\n",
    "| 7| 7 |\n",
    "| 10 |Buzz |\n",
    "|15 | Fizz buzz\n",
    "\n",
    "\n"
   ]
  },
  {
   "cell_type": "code",
   "execution_count": null,
   "metadata": {},
   "outputs": [],
   "source": []
  },
  {
   "cell_type": "markdown",
   "metadata": {},
   "source": [
    "If the speed limit is 70 print if a car is speeding, given the distance and time\n",
    "\n",
    "hint : speed  = distance / time"
   ]
  },
  {
   "cell_type": "code",
   "execution_count": 28,
   "metadata": {},
   "outputs": [
    {
     "name": "stdout",
     "output_type": "stream",
     "text": [
      "your good\n"
     ]
    }
   ],
   "source": [
    "distance = 6\n",
    "time = 20\n",
    "speed = distance / time\n",
    "if (speed > 70):\n",
    "    print (\"speeding\")\n",
    "else : print (\"your good\")"
   ]
  },
  {
   "cell_type": "markdown",
   "metadata": {},
   "source": [
    " Given an int count of a number of donuts, return a string\n",
    " of the form 'Number of donuts: <count>', where <count> is the number\n",
    " passed in. However, if the count is 10 or more, then use the word 'many'\n",
    " instead of the actual count.\n",
    " So donuts(5) returns 'Number of donuts: 5'\n",
    " and donuts(23) returns 'Number of donuts: many'\n"
   ]
  },
  {
   "cell_type": "code",
   "execution_count": 34,
   "metadata": {},
   "outputs": [
    {
     "name": "stdout",
     "output_type": "stream",
     "text": [
      "number of donuts many\n"
     ]
    }
   ],
   "source": [
    "count = 11\n",
    "if (count > 10):\n",
    "    print (\"number of donuts many\")\n",
    "else : print (\"number of donuts \" +str( count)) "
   ]
  },
  {
   "cell_type": "markdown",
   "metadata": {},
   "source": [
    "Write a program that asks someone their hourly wage and how long they worked and then print how much money they made"
   ]
  },
  {
   "cell_type": "code",
   "execution_count": null,
   "metadata": {},
   "outputs": [],
   "source": [
    "wage = int(input(\"what is your wage\"))\n",
    "houre = int(input(\"how many houres did you work?\"))\n",
    "print (wage * houre)"
   ]
  },
  {
   "cell_type": "markdown",
   "metadata": {},
   "source": [
    "Given a number check if it is positive, if not print the positive of the number"
   ]
  },
  {
   "cell_type": "code",
   "execution_count": null,
   "metadata": {},
   "outputs": [],
   "source": [
    "num = int(input(\"write a number\"))\n",
    "if (num > 0):\n",
    "    print(\"this is positive\")\n",
    "else : print(\"this is negative\")"
   ]
  },
  {
   "cell_type": "markdown",
   "metadata": {},
   "source": [
    "Write a program that calculates the area of a circle given the radius \n",
    "\n",
    "hint : area of circle = pi * radius ^ 2\n",
    "\n",
    "hint 2 : use Math.pi for pi"
   ]
  },
  {
   "cell_type": "code",
   "execution_count": null,
   "metadata": {},
   "outputs": [],
   "source": [
    "import math\n",
    "radius = 5"
   ]
  },
  {
   "cell_type": "markdown",
   "metadata": {},
   "source": [
    "Write a Python program that accepts an integer (n) and computes the value of n+nn+nnn. \n",
    "\n",
    "Example n = 5\n",
    "\n",
    "Expected Result : 155"
   ]
  },
  {
   "cell_type": "code",
   "execution_count": null,
   "metadata": {},
   "outputs": [],
   "source": []
  },
  {
   "cell_type": "markdown",
   "metadata": {},
   "source": [
    "Given a letter write a program to print if the letter is a vowel or not \n",
    "\n",
    "vowels are the letters a e i o u \n",
    "\n",
    "Example :\n",
    "|Input | Output |\n",
    "| ----------- | ----------- |\n",
    "| a | vowel |\n",
    "| b |not a vowel |\n",
    "| E |vowel |\n",
    "\n",
    "\n",
    "\n",
    "\n",
    "hint : what if it is a capital letter?"
   ]
  },
  {
   "cell_type": "code",
   "execution_count": null,
   "metadata": {},
   "outputs": [],
   "source": []
  },
  {
   "cell_type": "markdown",
   "metadata": {},
   "source": [
    "given the base and height of a triangle calculate the area of the triangle"
   ]
  },
  {
   "cell_type": "code",
   "execution_count": null,
   "metadata": {},
   "outputs": [],
   "source": []
  },
  {
   "cell_type": "markdown",
   "metadata": {},
   "source": [
    "Calculate the hypotouse of a triangle given the length of the other lines\n",
    "\n",
    "expected : 10.295630140987\n",
    "\n",
    "hint : math.pow() for squaring , math.sqrt for square root"
   ]
  },
  {
   "cell_type": "code",
   "execution_count": null,
   "metadata": {},
   "outputs": [],
   "source": [
    "import math\n",
    "line1 = 5\n",
    "line2 = 9\n"
   ]
  },
  {
   "cell_type": "markdown",
   "metadata": {},
   "source": [
    "write a program that converts cm to inches and prints a sentence saying _ cm is _ inches \n",
    "\n",
    "Example :\n",
    "|Input | Output |\n",
    "| ----------- | ----------- |\n",
    "| 5 | 5cm is 1.69 inches |\n",
    "| 200 |200cm is 78.74 inches |  \n",
    "\n",
    "\n",
    "hint :  1 cm = 0.393701 inch\n",
    "\n"
   ]
  },
  {
   "cell_type": "code",
   "execution_count": null,
   "metadata": {},
   "outputs": [],
   "source": [
    "cmValueInput = int(input(\"enter a value in cm\"))\n"
   ]
  },
  {
   "cell_type": "markdown",
   "metadata": {},
   "source": [
    "Create a program that asks the user to enter their name and their age. Print out a message addressed to them that tells them the year that they will turn 100 years old.\n",
    "\n",
    "e.g \n",
    "\n",
    "Example :\n",
    "|Input | Output |\n",
    "| ----------- | ----------- |\n",
    "| John 15 | John you will turn 100 in the year 2107 |\n",
    "| Sally 56 |Sally you will turn 100 in the year 2066 |\n",
    "\n",
    "expected output : John you will turn 100 in the year 2107"
   ]
  },
  {
   "cell_type": "code",
   "execution_count": null,
   "metadata": {},
   "outputs": [],
   "source": []
  }
 ],
 "metadata": {
  "interpreter": {
   "hash": "e8a9d9c0049f770700a924b5114098157d74b7b63c723a7981c84b33246f8fc4"
  },
  "kernelspec": {
   "display_name": "Python 3.10.4 64-bit",
   "language": "python",
   "name": "python3"
  },
  "language_info": {
   "codemirror_mode": {
    "name": "ipython",
    "version": 3
   },
   "file_extension": ".py",
   "mimetype": "text/x-python",
   "name": "python",
   "nbconvert_exporter": "python",
   "pygments_lexer": "ipython3",
   "version": "3.10.4"
  },
  "orig_nbformat": 4
 },
 "nbformat": 4,
 "nbformat_minor": 2
}
