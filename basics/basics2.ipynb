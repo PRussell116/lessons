{
 "cells": [
  {
   "cell_type": "markdown",
   "metadata": {},
   "source": [
    "Write a program that asks for a user's name and greets them using their name\n",
    "\n",
    "e.g. input : bob  output : hello bob"
   ]
  },
  {
   "cell_type": "code",
   "execution_count": 3,
   "metadata": {},
   "outputs": [
    {
     "name": "stdout",
     "output_type": "stream",
     "text": [
      "Hello Calvin\n"
     ]
    }
   ],
   "source": [
    "name = input (\"what is your name \")\n",
    "print (\"Hello \"  +  name)"
   ]
  },
  {
   "cell_type": "markdown",
   "metadata": {},
   "source": [
    "Get 2 inputs from the user and print the combined message\n",
    "\n",
    "e.g. \n",
    "- input 1 : hello  \n",
    "- input 2 : bob\n",
    "- output : hello bob"
   ]
  },
  {
   "cell_type": "code",
   "execution_count": 6,
   "metadata": {},
   "outputs": [
    {
     "name": "stdout",
     "output_type": "stream",
     "text": [
      "hello djhfjkhdfbob\n"
     ]
    }
   ],
   "source": [
    "input1 = input (\"what do you want me to say to you \")\n",
    "input2 = input (\"what is u r name\")\n",
    "print (input1 +\" \" + input2)"
   ]
  },
  {
   "cell_type": "markdown",
   "metadata": {},
   "source": [
    "Get the first and last letters of a string and print a message saying \"First letter : _ Final letter : _\""
   ]
  },
  {
   "cell_type": "code",
   "execution_count": 8,
   "metadata": {},
   "outputs": [
    {
     "name": "stdout",
     "output_type": "stream",
     "text": [
      "First letter h last letter o\n"
     ]
    }
   ],
   "source": [
    "word = input(\"enter something\")\n",
    "first = word[0]\n",
    "last = word[len(word)-1]\n",
    "print (\"First letter \" + first + (\" last letter \") + last)"
   ]
  },
  {
   "cell_type": "markdown",
   "metadata": {},
   "source": [
    "Ask the user to input the title of a movie, its director and its release date. print a string in the format\n",
    "\n",
    "title (release year) \"directed by\" director\n",
    "\n",
    "e.g.\n",
    "|Input | Output |\n",
    "| ----------- | ----------- |\n",
    "| Joker Todd Phillips 2019 | Joker (2019) directed by Todd Phillips |\n",
    "| Morbius  Daniel Espinosa 2022 |Morbius (2022) directed by Daniel Espionsa |  "
   ]
  },
  {
   "cell_type": "code",
   "execution_count": 9,
   "metadata": {},
   "outputs": [
    {
     "name": "stdout",
     "output_type": "stream",
     "text": [
      "hok45(2020)direted bybob\n"
     ]
    }
   ],
   "source": [
    "movie = input (\"what movie do you like?\")\n",
    "director = input (\"who is the director here?\")\n",
    "year = input (\"what year did it come out?\")\n",
    "print (movie + \" (\" + year + \") \" + \"direted by \" + director)"
   ]
  },
  {
   "cell_type": "markdown",
   "metadata": {},
   "source": [
    "you can get a substring from a word using [startingIndex:endingIndex]\n"
   ]
  },
  {
   "cell_type": "code",
   "execution_count": 10,
   "metadata": {},
   "outputs": [
    {
     "name": "stdout",
     "output_type": "stream",
     "text": [
      "substring :ello\n"
     ]
    }
   ],
   "source": [
    "word = \"hello\"\n",
    "subString = word[1:5]\n",
    "print(\"substring :\" + subString)"
   ]
  },
  {
   "cell_type": "code",
   "execution_count": 11,
   "metadata": {},
   "outputs": [
    {
     "name": "stdout",
     "output_type": "stream",
     "text": [
      "substring :car\n"
     ]
    }
   ],
   "source": [
    "word = \"carpet\"\n",
    "subString = word[0:3]\n",
    "print(\"substring :\" + subString)"
   ]
  },
  {
   "cell_type": "markdown",
   "metadata": {},
   "source": [
    "Given a string print the string without the final letter\n",
    "\n",
    "e.g. hello -> hell"
   ]
  },
  {
   "cell_type": "code",
   "execution_count": 12,
   "metadata": {},
   "outputs": [
    {
     "name": "stdout",
     "output_type": "stream",
     "text": [
      "hell\n"
     ]
    }
   ],
   "source": [
    "word = input (\"\")\n",
    "subword = word [0:len(word)-1]\n",
    "print(subword)\n"
   ]
  },
  {
   "cell_type": "markdown",
   "metadata": {},
   "source": [
    "Given a string print the string without the first letter and the last letter \n",
    "\n",
    "e.g. hello -> ell"
   ]
  },
  {
   "cell_type": "code",
   "execution_count": 13,
   "metadata": {},
   "outputs": [
    {
     "name": "stdout",
     "output_type": "stream",
     "text": [
      "ell\n"
     ]
    }
   ],
   "source": [
    "word = input (\"\")\n",
    "subword = word [1:len(word)-1]\n",
    "print (subword)"
   ]
  },
  {
   "cell_type": "markdown",
   "metadata": {},
   "source": [
    "Given a string print the string with the first letter replaced by ?\n"
   ]
  },
  {
   "cell_type": "code",
   "execution_count": 14,
   "metadata": {},
   "outputs": [
    {
     "name": "stdout",
     "output_type": "stream",
     "text": [
      "?ello\n"
     ]
    }
   ],
   "source": [
    "word = input (\"\")\n",
    "subword = word[1:len(word)]\n",
    "print (\"?\" + subword)"
   ]
  },
  {
   "cell_type": "markdown",
   "metadata": {},
   "source": [
    "Given an input string, \n",
    "- if the length of the string is greater than 7: replace the first letter with *\n",
    "- if it is less than 7 replace the first letter with #"
   ]
  },
  {
   "cell_type": "code",
   "execution_count": 16,
   "metadata": {},
   "outputs": [
    {
     "name": "stdout",
     "output_type": "stream",
     "text": [
      "*keuksdjbfiesjkm\n"
     ]
    }
   ],
   "source": [
    "word = input (\"\")\n",
    "subword = word[1:len(word)]\n",
    "if (len(word) > 7):\n",
    "    print (\"*\" + subword)\n",
    "else: print(\"#\" + subword)"
   ]
  },
  {
   "cell_type": "markdown",
   "metadata": {},
   "source": [
    "Write a program that takes a users input and prints a message saying\n",
    "- \"short message\" if the input is less than 5 characters\n",
    "\n",
    "- \"medium message\" if the input is greater than 5 characters and less than 10\n",
    "\n",
    "- \"long message\" if the input is greater than 10\n"
   ]
  },
  {
   "cell_type": "code",
   "execution_count": 19,
   "metadata": {},
   "outputs": [
    {
     "name": "stdout",
     "output_type": "stream",
     "text": [
      "medum message \n"
     ]
    }
   ],
   "source": [
    "message = input(\"\")\n",
    "if (len(message)< 5):\n",
    "    print(\"short message\")\n",
    "elif (len(message)> 5 and (len(message)< 10)):\n",
    "    print (\"medum message \")\n",
    "else: print (\"long message \")"
   ]
  },
  {
   "cell_type": "markdown",
   "metadata": {},
   "source": [
    "Write a program that calculates the area of a circle given the radius \n",
    "\n",
    "hint : area of circle = pi * radius ^ 2\n",
    "\n",
    "hint 2 : use Math.pi for pi"
   ]
  },
  {
   "cell_type": "code",
   "execution_count": 22,
   "metadata": {},
   "outputs": [
    {
     "name": "stdout",
     "output_type": "stream",
     "text": [
      "78.53981633974483: area of circle\n"
     ]
    }
   ],
   "source": [
    "import math\n",
    "radius = 5\n",
    "area = math.pi * radius * radius\n",
    "print(str(area) + \": area of circle\") "
   ]
  },
  {
   "cell_type": "markdown",
   "metadata": {},
   "source": [
    "Given the first part of a date print the number followed by the correct text ending\n",
    "\n",
    "Example :\n",
    "|Input | Output |\n",
    "| ----------- | ----------- |\n",
    "| 1 | 1st |\n",
    "| 2 |2nd| \n",
    "|3|3rd|\n",
    "|4|4th|\n",
    "|n...|nth ...| \n"
   ]
  },
  {
   "cell_type": "code",
   "execution_count": 29,
   "metadata": {},
   "outputs": [
    {
     "name": "stdout",
     "output_type": "stream",
     "text": [
      "987656th\n"
     ]
    }
   ],
   "source": [
    "number = input (\"\")\n",
    "if (number == \"1\"):\n",
    "    print (number + \"st\")\n",
    "elif (number == \"2\"):\n",
    "    print (number + \"nd\")\n",
    "elif (number == \"3\"):\n",
    "    print (number + \"rd\")\n",
    "else :\n",
    "    print (number + \"th\")\n",
    "\n"
   ]
  },
  {
   "cell_type": "markdown",
   "metadata": {},
   "source": [
    "Write a Python program that accepts an integer (n) and computes the value of n+nn+nnn. \n",
    "\n",
    "Example n = 5\n",
    "\n",
    "Expected Result : 155"
   ]
  },
  {
   "cell_type": "code",
   "execution_count": 30,
   "metadata": {},
   "outputs": [
    {
     "name": "stdout",
     "output_type": "stream",
     "text": [
      "155\n"
     ]
    }
   ],
   "source": [
    "number = int(input (\"\"))\n",
    "print (number + number*number + number*number*number)"
   ]
  },
  {
   "cell_type": "markdown",
   "metadata": {},
   "source": [
    "Given a letter write a program to print if the letter is a vowel or not \n",
    "\n",
    "vowels are the letters a e i o u \n",
    "\n",
    "Example :\n",
    "|Input | Output |\n",
    "| ----------- | ----------- |\n",
    "| a | vowel |\n",
    "| b |not a vowel |\n",
    "| E |vowel |\n",
    "\n",
    "\n",
    "\n",
    "\n",
    "hint : what if it is a capital letter?"
   ]
  },
  {
   "cell_type": "code",
   "execution_count": 33,
   "metadata": {},
   "outputs": [
    {
     "name": "stdout",
     "output_type": "stream",
     "text": [
      "this is a vowel\n"
     ]
    }
   ],
   "source": [
    "letter = input (\"\").lower()\n",
    "\n",
    "if (letter == \"a\" or letter== \"e\" or letter== \"i\" or letter== \"o\" or letter== \"u\"):\n",
    "    print (\"this is a vowel\")\n",
    "else: print (\"this is not a vowel\")\n"
   ]
  },
  {
   "cell_type": "markdown",
   "metadata": {},
   "source": [
    "given the base and height of a triangle calculate the area of the triangle"
   ]
  },
  {
   "cell_type": "code",
   "execution_count": null,
   "metadata": {},
   "outputs": [],
   "source": []
  },
  {
   "cell_type": "markdown",
   "metadata": {},
   "source": [
    "Calculate the hypotouse of a triangle given the length of the other lines\n",
    "\n",
    "expected : 10.295630140987\n",
    "\n",
    "hint : math.pow() for squaring , math.sqrt for square root\n",
    "\n",
    "hint 2 : a^2 = b^2 + c^2"
   ]
  },
  {
   "cell_type": "code",
   "execution_count": null,
   "metadata": {},
   "outputs": [],
   "source": [
    "import math\n",
    "line1 = 5\n",
    "line2 = 9\n"
   ]
  },
  {
   "cell_type": "markdown",
   "metadata": {},
   "source": [
    "write a program that converts cm to inches and prints a sentence saying _ cm is _ inches \n",
    "\n",
    "Example :\n",
    "|Input | Output |\n",
    "| ----------- | ----------- |\n",
    "| 5 | 5cm is 1.69 inches |\n",
    "| 200 |200cm is 78.74 inches |  \n",
    "\n",
    "\n",
    "hint :  1 cm = 0.393701 inch\n",
    "\n"
   ]
  },
  {
   "cell_type": "code",
   "execution_count": null,
   "metadata": {},
   "outputs": [],
   "source": [
    "cmValueInput = int(input(\"enter a value in cm\"))\n"
   ]
  },
  {
   "cell_type": "markdown",
   "metadata": {},
   "source": [
    "Create a program that asks the user to enter their name and their age. Print out a message addressed to them that tells them the year that they will turn 100 years old.\n",
    "\n",
    "e.g \n",
    "\n",
    "Example :\n",
    "|Input | Output |\n",
    "| ----------- | ----------- |\n",
    "| John 15 | John you will turn 100 in the year 2107 |\n",
    "| Sally 56 |Sally you will turn 100 in the year 2066 |\n",
    "\n",
    "expected output : John you will turn 100 in the year 2107"
   ]
  },
  {
   "cell_type": "code",
   "execution_count": null,
   "metadata": {},
   "outputs": [],
   "source": []
  }
 ],
 "metadata": {
  "interpreter": {
   "hash": "e8a9d9c0049f770700a924b5114098157d74b7b63c723a7981c84b33246f8fc4"
  },
  "kernelspec": {
   "display_name": "Python 3.10.4 64-bit",
   "language": "python",
   "name": "python3"
  },
  "language_info": {
   "codemirror_mode": {
    "name": "ipython",
    "version": 3
   },
   "file_extension": ".py",
   "mimetype": "text/x-python",
   "name": "python",
   "nbconvert_exporter": "python",
   "pygments_lexer": "ipython3",
   "version": "3.10.4"
  },
  "orig_nbformat": 4
 },
 "nbformat": 4,
 "nbformat_minor": 2
}
