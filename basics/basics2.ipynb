{
 "cells": [
  {
   "cell_type": "markdown",
   "metadata": {},
   "source": [
    "Write a program that asks for a user's name and greets them"
   ]
  },
  {
   "cell_type": "code",
   "execution_count": null,
   "metadata": {},
   "outputs": [],
   "source": []
  },
  {
   "cell_type": "markdown",
   "metadata": {},
   "source": [
    "Get 2 inputs from the user and print the combined message"
   ]
  },
  {
   "cell_type": "code",
   "execution_count": null,
   "metadata": {},
   "outputs": [],
   "source": []
  },
  {
   "cell_type": "markdown",
   "metadata": {},
   "source": [
    "Get the first and last letters of a string and print a message saying \"First letter : _ Final letter : _\""
   ]
  },
  {
   "cell_type": "code",
   "execution_count": null,
   "metadata": {},
   "outputs": [],
   "source": []
  },
  {
   "cell_type": "markdown",
   "metadata": {},
   "source": [
    "Ask the user to input the title of a movie, its director and its release date. print a string in the format\n",
    "\n",
    "title (release year) \"directed by\" director\n",
    "\n",
    "e.g.\n",
    "|Input | Output |\n",
    "| ----------- | ----------- |\n",
    "| Joker Todd Phillips 2019 | Joker (2019) directed by Todd Phillips |\n",
    "| Morbius  Daniel Espinosa 2022 |Morbius (2022) directed by Daniel Espionsa |  "
   ]
  },
  {
   "cell_type": "markdown",
   "metadata": {},
   "source": [
    "Given an input string, print the string with the final letter replaced by #\n",
    "\n",
    "\n",
    "e.g. Barry -> Barr#\n",
    "\n",
    "hint use .replace\n",
    "\n"
   ]
  },
  {
   "cell_type": "code",
   "execution_count": null,
   "metadata": {},
   "outputs": [],
   "source": []
  },
  {
   "cell_type": "markdown",
   "metadata": {},
   "source": [
    "Given a sentence replace all occurances of the word \"the\""
   ]
  },
  {
   "cell_type": "code",
   "execution_count": null,
   "metadata": {},
   "outputs": [],
   "source": [
    "sentence = \"the cat sat on the mat\""
   ]
  },
  {
   "cell_type": "markdown",
   "metadata": {},
   "source": [
    "Given a sentence replace all occurances of the word banana with the word apple"
   ]
  },
  {
   "cell_type": "code",
   "execution_count": null,
   "metadata": {},
   "outputs": [],
   "source": [
    "sentence = \"I love bananas\""
   ]
  },
  {
   "cell_type": "markdown",
   "metadata": {},
   "source": [
    "you can get a substring from a word using [startingIndex:endingIndex]\n"
   ]
  },
  {
   "cell_type": "code",
   "execution_count": 5,
   "metadata": {},
   "outputs": [
    {
     "name": "stdout",
     "output_type": "stream",
     "text": [
      "substring :ello\n"
     ]
    }
   ],
   "source": [
    "word = \"hello\"\n",
    "subString = word[1:5]\n",
    "print(\"substring :\" + subString)"
   ]
  },
  {
   "cell_type": "markdown",
   "metadata": {},
   "source": [
    "Given a string print the string without the final letter\n",
    "\n",
    "e.g. hello -> hell"
   ]
  },
  {
   "cell_type": "code",
   "execution_count": null,
   "metadata": {},
   "outputs": [],
   "source": []
  },
  {
   "cell_type": "markdown",
   "metadata": {},
   "source": [
    "Given a string print the string without the first letter and the last letter \n",
    "\n",
    "e.g. hello -> ell"
   ]
  },
  {
   "cell_type": "code",
   "execution_count": null,
   "metadata": {},
   "outputs": [],
   "source": []
  },
  {
   "cell_type": "markdown",
   "metadata": {},
   "source": [
    "Given a string print the string with the first letter replaced by ?\n"
   ]
  },
  {
   "cell_type": "code",
   "execution_count": null,
   "metadata": {},
   "outputs": [],
   "source": []
  },
  {
   "cell_type": "markdown",
   "metadata": {},
   "source": [
    "Given an input string, if the length of the string is greater than 7 replace the first letter with *, if it is less than 7 replace the first letter with #"
   ]
  },
  {
   "cell_type": "code",
   "execution_count": 3,
   "metadata": {},
   "outputs": [
    {
     "data": {
      "text/plain": [
       "'bbbbbbbb'"
      ]
     },
     "execution_count": 3,
     "metadata": {},
     "output_type": "execute_result"
    }
   ],
   "source": []
  },
  {
   "cell_type": "markdown",
   "metadata": {},
   "source": [
    "Write a program that takes a users input and prints a message saying\n",
    "- \"short message\" if the input is less than 5 characters\n",
    "\n",
    "- \"medium message\" if the input is greater than 5 characters and less than 10\n",
    "\n",
    "- \"long message\" if the input is greater than 10\n"
   ]
  },
  {
   "cell_type": "markdown",
   "metadata": {},
   "source": [
    "Write a program that calculates the area of a circle given the radius \n",
    "\n",
    "hint : area of circle = pi * radius ^ 2\n",
    "\n",
    "hint 2 : use Math.pi for pi"
   ]
  },
  {
   "cell_type": "code",
   "execution_count": null,
   "metadata": {},
   "outputs": [],
   "source": [
    "import math\n",
    "radius = 5"
   ]
  },
  {
   "cell_type": "markdown",
   "metadata": {},
   "source": [
    "Given the first part of a date print the number followed by the correct text ending\n",
    "\n",
    "Example :\n",
    "|Input | Output |\n",
    "| ----------- | ----------- |\n",
    "| 1 | 1st |\n",
    "| 2 |2nd| \n",
    "|3|3rd|\n",
    "|4|4th|\n",
    "|n...|nth ...| \n"
   ]
  },
  {
   "cell_type": "markdown",
   "metadata": {},
   "source": [
    "Write a Python program that accepts an integer (n) and computes the value of n+nn+nnn. \n",
    "\n",
    "Example n = 5\n",
    "\n",
    "Expected Result : 155"
   ]
  },
  {
   "cell_type": "code",
   "execution_count": null,
   "metadata": {},
   "outputs": [],
   "source": []
  },
  {
   "cell_type": "markdown",
   "metadata": {},
   "source": [
    "Given a letter write a program to print if the letter is a vowel or not \n",
    "\n",
    "vowels are the letters a e i o u \n",
    "\n",
    "Example :\n",
    "|Input | Output |\n",
    "| ----------- | ----------- |\n",
    "| a | vowel |\n",
    "| b |not a vowel |\n",
    "| E |vowel |\n",
    "\n",
    "\n",
    "\n",
    "\n",
    "hint : what if it is a capital letter?"
   ]
  },
  {
   "cell_type": "code",
   "execution_count": null,
   "metadata": {},
   "outputs": [],
   "source": []
  },
  {
   "cell_type": "markdown",
   "metadata": {},
   "source": [
    "given the base and height of a triangle calculate the area of the triangle"
   ]
  },
  {
   "cell_type": "code",
   "execution_count": 1,
   "metadata": {},
   "outputs": [
    {
     "ename": "AttributeError",
     "evalue": "'str' object has no attribute 'len'",
     "output_type": "error",
     "traceback": [
      "\u001b[1;31m---------------------------------------------------------------------------\u001b[0m",
      "\u001b[1;31mAttributeError\u001b[0m                            Traceback (most recent call last)",
      "\u001b[1;32mc:\\Users\\tania\\OneDrive\\Documents\\lessons\\basics\\basics2.ipynb Cell 20'\u001b[0m in \u001b[0;36m<cell line: 1>\u001b[1;34m()\u001b[0m\n\u001b[1;32m----> <a href='vscode-notebook-cell:/c%3A/Users/tania/OneDrive/Documents/lessons/basics/basics2.ipynb#ch0000007?line=0'>1</a>\u001b[0m \u001b[39mprint\u001b[39m(\u001b[39m\"\u001b[39;49m\u001b[39mapple\u001b[39;49m\u001b[39m\"\u001b[39;49m\u001b[39m.\u001b[39;49mlen())\n",
      "\u001b[1;31mAttributeError\u001b[0m: 'str' object has no attribute 'len'"
     ]
    }
   ],
   "source": []
  },
  {
   "cell_type": "markdown",
   "metadata": {},
   "source": [
    "Calculate the hypotouse of a triangle given the length of the other lines\n",
    "\n",
    "expected : 10.295630140987\n",
    "\n",
    "hint : math.pow() for squaring , math.sqrt for square root"
   ]
  },
  {
   "cell_type": "code",
   "execution_count": null,
   "metadata": {},
   "outputs": [],
   "source": [
    "import math\n",
    "line1 = 5\n",
    "line2 = 9\n"
   ]
  },
  {
   "cell_type": "markdown",
   "metadata": {},
   "source": [
    "write a program that converts cm to inches and prints a sentence saying _ cm is _ inches \n",
    "\n",
    "Example :\n",
    "|Input | Output |\n",
    "| ----------- | ----------- |\n",
    "| 5 | 5cm is 1.69 inches |\n",
    "| 200 |200cm is 78.74 inches |  \n",
    "\n",
    "\n",
    "hint :  1 cm = 0.393701 inch\n",
    "\n"
   ]
  },
  {
   "cell_type": "code",
   "execution_count": null,
   "metadata": {},
   "outputs": [],
   "source": [
    "cmValueInput = int(input(\"enter a value in cm\"))\n"
   ]
  },
  {
   "cell_type": "markdown",
   "metadata": {},
   "source": [
    "Given an integer print if it is a multiple of 5\n",
    "\n",
    "hint : use mod %"
   ]
  },
  {
   "cell_type": "code",
   "execution_count": null,
   "metadata": {},
   "outputs": [],
   "source": [
    "number = 2834283589395"
   ]
  },
  {
   "cell_type": "markdown",
   "metadata": {},
   "source": [
    "Create a program that asks the user to enter their name and their age. Print out a message addressed to them that tells them the year that they will turn 100 years old.\n",
    "\n",
    "e.g \n",
    "\n",
    "Example :\n",
    "|Input | Output |\n",
    "| ----------- | ----------- |\n",
    "| John 15 | John you will turn 100 in the year 2107 |\n",
    "| Sally 56 |Sally you will turn 100 in the year 2066 |\n",
    "\n",
    "expected output : John you will turn 100 in the year 2107"
   ]
  },
  {
   "cell_type": "code",
   "execution_count": null,
   "metadata": {},
   "outputs": [],
   "source": []
  }
 ],
 "metadata": {
  "interpreter": {
   "hash": "e8a9d9c0049f770700a924b5114098157d74b7b63c723a7981c84b33246f8fc4"
  },
  "kernelspec": {
   "display_name": "Python 3.10.4 64-bit",
   "language": "python",
   "name": "python3"
  },
  "language_info": {
   "codemirror_mode": {
    "name": "ipython",
    "version": 3
   },
   "file_extension": ".py",
   "mimetype": "text/x-python",
   "name": "python",
   "nbconvert_exporter": "python",
   "pygments_lexer": "ipython3",
   "version": "3.10.4"
  },
  "orig_nbformat": 4
 },
 "nbformat": 4,
 "nbformat_minor": 2
}
