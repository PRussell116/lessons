{
 "cells": [
  {
   "cell_type": "markdown",
   "metadata": {},
   "source": [
    "Create a program that asks the user to enter their name and their age. Print out a message addressed to them that tells them the year that they will turn 100 years old.\n",
    "\n",
    "e.g \n",
    "\n",
    "Example :\n",
    "|Input | Output |\n",
    "| ----------- | ----------- |\n",
    "| John 15 | John you will turn 100 in the year 2107 |\n",
    "| Sally 56 |Sally you will turn 100 in the year 2066 |\n",
    "\n",
    "expected output : John you will turn 100 in the year 2107"
   ]
  },
  {
   "cell_type": "code",
   "execution_count": 7,
   "metadata": {},
   "outputs": [
    {
     "name": "stdout",
     "output_type": "stream",
     "text": [
      "john you will turn 100 in the year 2107\n"
     ]
    }
   ],
   "source": [
    "age = int(input (\"how old are you\"))\n",
    "howManyYearsTo100 = 100 - age\n",
    "yearTurning100 = howManyYearsTo100 + 2022\n",
    "name = input (\"whats your name\")\n",
    "print (str(name) + \" you will turn 100 in the year \" + str(yearTurning100))"
   ]
  },
  {
   "cell_type": "markdown",
   "metadata": {},
   "source": [
    "Arrays are lists of things, these can be different types such as a list of Strings or a list of numbers"
   ]
  },
  {
   "cell_type": "code",
   "execution_count": 8,
   "metadata": {},
   "outputs": [
    {
     "name": "stdout",
     "output_type": "stream",
     "text": [
      "['Alice', 'Bob', 'Charlie']\n",
      "Bob\n"
     ]
    }
   ],
   "source": [
    "names = [\"Alice\", \"Bob\", \"Charlie\"]\n",
    "print(names)\n",
    "print(names[1])"
   ]
  },
  {
   "cell_type": "code",
   "execution_count": 9,
   "metadata": {},
   "outputs": [
    {
     "name": "stdout",
     "output_type": "stream",
     "text": [
      "6\n"
     ]
    }
   ],
   "source": [
    "numbers = [10,25,6]\n",
    "print(numbers[2])"
   ]
  },
  {
   "cell_type": "code",
   "execution_count": 10,
   "metadata": {},
   "outputs": [
    {
     "name": "stdout",
     "output_type": "stream",
     "text": [
      "[1, 'bob', True]\n"
     ]
    }
   ],
   "source": [
    "varible1 = 1\n",
    "varible2 = \"bob\"\n",
    "varible3 = True\n",
    "\n",
    "arrayOfVaribles = [varible1,varible2,varible3]\n",
    "print(arrayOfVaribles) "
   ]
  },
  {
   "cell_type": "markdown",
   "metadata": {},
   "source": [
    "print the 3rd 6th and 1st values in the list as one string"
   ]
  },
  {
   "cell_type": "code",
   "execution_count": 11,
   "metadata": {},
   "outputs": [
    {
     "name": "stdout",
     "output_type": "stream",
     "text": [
      "charliefrankalice\n"
     ]
    }
   ],
   "source": [
    "array = [\"alice\",\"bob\",\"charlie\",\"dan\",\"ellie\",\"frank\",\"greg\"]\n",
    "print (array[2] + array[5] + array[0])"
   ]
  },
  {
   "cell_type": "markdown",
   "metadata": {},
   "source": [
    "Print the first two numbers in the array only if the last number in the list is greater than 5\n",
    "\n",
    "- hint : len() works on arrays"
   ]
  },
  {
   "cell_type": "code",
   "execution_count": 15,
   "metadata": {},
   "outputs": [
    {
     "name": "stdout",
     "output_type": "stream",
     "text": [
      "3 6\n"
     ]
    }
   ],
   "source": [
    "array = [3,6,2,1,6,7,20,92,1,4,3,2,4,6]\n",
    "if(array[len(array)-1] > 5):\n",
    "    print(str(array [0])+ \" \" + str(array[1]))\n"
   ]
  },
  {
   "cell_type": "markdown",
   "metadata": {},
   "source": [
    "We can add things to the end of the array (list) using append\n",
    "NAMEOFARRAY . append (THINGTOADD)\n",
    "\n"
   ]
  },
  {
   "cell_type": "code",
   "execution_count": 16,
   "metadata": {},
   "outputs": [
    {
     "name": "stdout",
     "output_type": "stream",
     "text": [
      "['alice', 'bob', 'charlie']\n"
     ]
    }
   ],
   "source": [
    "names = [\"alice\",\"bob\"]\n",
    "names.append(\"charlie\")\n",
    "print(names)"
   ]
  },
  {
   "cell_type": "markdown",
   "metadata": {},
   "source": [
    "Using input add something to the end of a list and then print the list"
   ]
  },
  {
   "cell_type": "code",
   "execution_count": 17,
   "metadata": {},
   "outputs": [
    {
     "name": "stdout",
     "output_type": "stream",
     "text": [
      "[1, 4, 9, '4']\n"
     ]
    }
   ],
   "source": [
    "list = [1,4,9]\n",
    "number = input (\"write a number \")\n",
    "list.append(number)\n",
    "print (list)"
   ]
  },
  {
   "cell_type": "markdown",
   "metadata": {},
   "source": [
    "Ask for an input :\n",
    "- if the input is greater than the final number in the list append the input to the list\n",
    "\n",
    "- if not print the list"
   ]
  },
  {
   "cell_type": "code",
   "execution_count": 20,
   "metadata": {},
   "outputs": [
    {
     "name": "stdout",
     "output_type": "stream",
     "text": [
      "[1, 4, 5, 8, 2, 3]\n"
     ]
    }
   ],
   "source": [
    "list = [1,4,5,8,2,3]\n",
    "num= int(input (\"\"))\n",
    "if (num>list[len(list)-1]):\n",
    "    list.append(num)\n",
    "else: print (list)"
   ]
  },
  {
   "cell_type": "markdown",
   "metadata": {},
   "source": [
    "Ask for an input:\n",
    "- if it is greater than the first item in the list append the sum of the last item and the input to the list\n",
    "- if it the input is equal to the first item append the item to the list\n",
    "- if neither condition is met append the value of the input - the first value\n",
    "\n",
    "After appending print the list"
   ]
  },
  {
   "cell_type": "code",
   "execution_count": 26,
   "metadata": {},
   "outputs": [
    {
     "name": "stdout",
     "output_type": "stream",
     "text": [
      "[4, 3, 7, 8, 4]\n"
     ]
    }
   ],
   "source": [
    "array = [4,3,7,8]\n",
    "num = int(input (\"write a number\"))\n",
    "if (num > array[0]):\n",
    "    sum = num + array[len(array)- 1]\n",
    "    array.append(sum)\n",
    "elif (num==array[0]):\n",
    "    array.append(num)\n",
    "else: array.append(array[0])\n",
    "print (array)"
   ]
  },
  {
   "cell_type": "markdown",
   "metadata": {},
   "source": [
    "We can add things to arrays at a specific point using insert\n",
    "\n",
    "- ARRAY_NAME . insert ( INDEX TO INSERT AT , VALUE TO INSERT)"
   ]
  },
  {
   "cell_type": "code",
   "execution_count": 27,
   "metadata": {},
   "outputs": [
    {
     "name": "stdout",
     "output_type": "stream",
     "text": [
      "['bob', 'dan', 'alice', 'charlie']\n"
     ]
    }
   ],
   "source": [
    "names = [\"bob\",\"alice\",\"charlie\"]\n",
    "names.insert(1,\"dan\")\n",
    "print(names)"
   ]
  },
  {
   "cell_type": "markdown",
   "metadata": {},
   "source": [
    "Write a program to insert a name to the list at the front of the list"
   ]
  },
  {
   "cell_type": "code",
   "execution_count": 29,
   "metadata": {},
   "outputs": [
    {
     "name": "stdout",
     "output_type": "stream",
     "text": [
      "['bob', 'bob', 'alice', 'charlie']\n"
     ]
    }
   ],
   "source": [
    "names = [\"bob\",\"alice\",\"charlie\"]\n",
    "names.insert(0,\"bob\")\n",
    "print (names)"
   ]
  },
  {
   "cell_type": "markdown",
   "metadata": {},
   "source": [
    "Write a program that asks for a number \n",
    "- if it is smaller than the 4th value inserts it at the front of the array \n",
    "- if it is larger or equal inserts the number at the end of the array"
   ]
  },
  {
   "cell_type": "code",
   "execution_count": 31,
   "metadata": {},
   "outputs": [
    {
     "name": "stdout",
     "output_type": "stream",
     "text": [
      "[1, 1, 5, 6, 2, 4, 7]\n"
     ]
    }
   ],
   "source": [
    "array = [1,5,6,2,4,7] # 2 is the 4th value in this array\n",
    "num = int(input (\"\"))\n",
    "if (num < array[3]):\n",
    "    array.insert(0,num)\n",
    "else: array.append(num)\n",
    "print(array)"
   ]
  },
  {
   "cell_type": "markdown",
   "metadata": {},
   "source": [
    "We can remove items from an array using .remove\n",
    "\n",
    "- ARRAY_NAME . remove (ITEM TO REMOVE)"
   ]
  },
  {
   "cell_type": "code",
   "execution_count": 32,
   "metadata": {},
   "outputs": [
    {
     "name": "stdout",
     "output_type": "stream",
     "text": [
      "['apple', 'bannana']\n"
     ]
    }
   ],
   "source": [
    "fruits = [\"apple\",\"orange\",\"bannana\"]\n",
    "fruits.remove(\"orange\")\n",
    "print(fruits)"
   ]
  },
  {
   "cell_type": "markdown",
   "metadata": {},
   "source": [
    "remove 9 from the list of numbers and print the new list"
   ]
  },
  {
   "cell_type": "code",
   "execution_count": 33,
   "metadata": {},
   "outputs": [
    {
     "name": "stdout",
     "output_type": "stream",
     "text": [
      "[5, 6, 7, 12, 3, 2, 8, 3, 2, 4, 1]\n"
     ]
    }
   ],
   "source": [
    "numbers = [5,6,7,12,3,2,8,9,3,2,4,1]\n",
    "numbers.remove(9)\n",
    "print (numbers)"
   ]
  },
  {
   "cell_type": "markdown",
   "metadata": {},
   "source": [
    "If you need to remove elements from the array using the index (the number) you can use pop\n",
    "\n",
    "- e.g  ARRAY_NAME . pop(5) \n",
    "\n",
    "this removes the 5th element of the list"
   ]
  },
  {
   "cell_type": "code",
   "execution_count": 34,
   "metadata": {},
   "outputs": [
    {
     "name": "stdout",
     "output_type": "stream",
     "text": [
      "['barry', 'sally']\n"
     ]
    }
   ],
   "source": [
    "names = [\"barry\",\"harry\",\"sally\"]\n",
    "names.pop(1)\n",
    "print(names)"
   ]
  },
  {
   "cell_type": "markdown",
   "metadata": {},
   "source": [
    "Given an array of names \n",
    "- if the first name of the list is harry remove the 2nd name\n",
    "- if the last name in the list is terry add greg to the end of the list\n",
    "- then print the list of names"
   ]
  },
  {
   "cell_type": "code",
   "execution_count": 37,
   "metadata": {},
   "outputs": [
    {
     "name": "stdout",
     "output_type": "stream",
     "text": [
      "['joe', 'frank', 'Liz', 'terry']\n"
     ]
    }
   ],
   "source": [
    "#names = [\"harry\",\"sally\",\"ben\"]\n",
    "names = [\"joe\",\"frank\",\"Liz\",\"terry\"]\n",
    "# names = [\"harry\",\"liz\",\"terry\"]\n",
    "# names = [\"hannah\",\"steve\",\"nina\"]\n",
    "if (names [0]== \"harry\"):\n",
    "    names.pop(1)\n",
    "if (name [len(names)-1] == \"terry\"):\n",
    "    names.append(\"greg\")\n",
    "print(names)"
   ]
  },
  {
   "cell_type": "markdown",
   "metadata": {},
   "source": [
    "We can change the value of items in an array"
   ]
  },
  {
   "cell_type": "code",
   "execution_count": 38,
   "metadata": {},
   "outputs": [
    {
     "name": "stdout",
     "output_type": "stream",
     "text": [
      "['orange', 'pear', 'watermelon']\n"
     ]
    }
   ],
   "source": [
    "fruits = [\"apple\",\"pear\",\"watermelon\"]\n",
    "fruits[0] = \"orange\"\n",
    "print(fruits)"
   ]
  },
  {
   "cell_type": "markdown",
   "metadata": {},
   "source": [
    "Given an array\n",
    "- if the first value in the array is apple change the last value in the array to watermelon\n",
    "- otherwise change the first value to apple\n",
    "\n",
    "print the array"
   ]
  },
  {
   "cell_type": "code",
   "execution_count": 41,
   "metadata": {},
   "outputs": [
    {
     "name": "stdout",
     "output_type": "stream",
     "text": [
      "['apple', 'pear', 'watermelon']\n"
     ]
    }
   ],
   "source": [
    "fruits = [\"apple\",\"pear\",\"grape\"]\n",
    "if (fruits[0]==\"apple\"):\n",
    "    fruits[-1]=\"watermelon\"\n",
    "else: fruits[0]=\"apple\"\n",
    "print(fruits)\n",
    "\n"
   ]
  },
  {
   "cell_type": "markdown",
   "metadata": {},
   "source": [
    "Given an array\n",
    "- if the array is longer than 5 : change the 3rd and 4th values to be the same as the 1st and 2nd values and then print the array\n",
    "\n",
    "- if the array is shorter than 5 and the first value is less than 3 print the final value in the array\n",
    "\n",
    "- else print only the first value in the array"
   ]
  },
  {
   "cell_type": "code",
   "execution_count": 49,
   "metadata": {},
   "outputs": [
    {
     "name": "stdout",
     "output_type": "stream",
     "text": [
      "60\n"
     ]
    }
   ],
   "source": [
    "array = [2,7,5,9,5,4]\n",
    "array = [3,0]\n",
    "array = [60,2,4,5,6]\n",
    "if (len(array)>5):\n",
    "    array[2] = array[0]\n",
    "    array[3] = array[1]\n",
    "    print(array)\n",
    "elif(len(array) < 5):\n",
    "    print(array[-1])\n",
    "    #print(array[len(array)])\n",
    "else:\n",
    "    print(array[0])"
   ]
  }
 ],
 "metadata": {
  "interpreter": {
   "hash": "68a4255ffac02f175910f4ac8746557d0bd2381bbe75a048e653626df842db98"
  },
  "kernelspec": {
   "display_name": "Python 3.10.4 64-bit",
   "language": "python",
   "name": "python3"
  },
  "language_info": {
   "codemirror_mode": {
    "name": "ipython",
    "version": 3
   },
   "file_extension": ".py",
   "mimetype": "text/x-python",
   "name": "python",
   "nbconvert_exporter": "python",
   "pygments_lexer": "ipython3",
   "version": "3.10.4"
  },
  "orig_nbformat": 4
 },
 "nbformat": 4,
 "nbformat_minor": 2
}
