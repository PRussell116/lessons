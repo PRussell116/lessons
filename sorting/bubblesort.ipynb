{
 "cells": [
  {
   "cell_type": "code",
   "execution_count": 4,
   "metadata": {},
   "outputs": [
    {
     "name": "stdout",
     "output_type": "stream",
     "text": [
      "[1, 2, 3, 5, 6, 7, 8, 9, 18, 23]\n"
     ]
    }
   ],
   "source": [
    "swapHappened = True\n",
    "unsortedList = [5,23,6,7,18,8,9,3,1,2]\n",
    "\n",
    "while(swapHappened == True):\n",
    "    swapHappened = False\n",
    "    for i in range (len(unsortedList)):\n",
    "        if i< len(unsortedList)-1 and unsortedList[i] > unsortedList[i+1]:\n",
    "            swapHappened = True\n",
    "            smallerNum = unsortedList[i+1]\n",
    "            unsortedList[i+1] = unsortedList[i]\n",
    "            unsortedList[i] = smallerNum\n",
    "    \n",
    "print( unsortedList)"
   ]
  }
 ],
 "metadata": {
  "kernelspec": {
   "display_name": "Python 3.10.4 64-bit",
   "language": "python",
   "name": "python3"
  },
  "language_info": {
   "codemirror_mode": {
    "name": "ipython",
    "version": 3
   },
   "file_extension": ".py",
   "mimetype": "text/x-python",
   "name": "python",
   "nbconvert_exporter": "python",
   "pygments_lexer": "ipython3",
   "version": "3.10.4"
  },
  "orig_nbformat": 4,
  "vscode": {
   "interpreter": {
    "hash": "68a4255ffac02f175910f4ac8746557d0bd2381bbe75a048e653626df842db98"
   }
  }
 },
 "nbformat": 4,
 "nbformat_minor": 2
}
