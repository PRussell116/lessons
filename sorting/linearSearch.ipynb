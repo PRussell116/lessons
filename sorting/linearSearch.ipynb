{
 "cells": [
  {
   "cell_type": "markdown",
   "metadata": {},
   "source": [
    "Given a list of ordered numbers and a target, print \"number TARGET is at POSITON\" where position is where it is in the list.  If it is not in the list print not in list"
   ]
  },
  {
   "cell_type": "code",
   "execution_count": 2,
   "metadata": {},
   "outputs": [
    {
     "name": "stdout",
     "output_type": "stream",
     "text": [
      "3\n",
      "not in list\n"
     ]
    }
   ],
   "source": [
    "listOfNums = [1,3,4,5,7,8,9,12,15,19,20,25,31]\n",
    "target = 5\n",
    "for nums in range(len(listOfNums)):\n",
    "    if listOfNums[nums]==target:\n",
    "        print(nums)\n",
    "print(\"not in list\")\n",
    "\n"
   ]
  }
 ],
 "metadata": {
  "kernelspec": {
   "display_name": "Python 3.10.4 64-bit",
   "language": "python",
   "name": "python3"
  },
  "language_info": {
   "codemirror_mode": {
    "name": "ipython",
    "version": 3
   },
   "file_extension": ".py",
   "mimetype": "text/x-python",
   "name": "python",
   "nbconvert_exporter": "python",
   "pygments_lexer": "ipython3",
   "version": "3.10.4"
  },
  "orig_nbformat": 4,
  "vscode": {
   "interpreter": {
    "hash": "68a4255ffac02f175910f4ac8746557d0bd2381bbe75a048e653626df842db98"
   }
  }
 },
 "nbformat": 4,
 "nbformat_minor": 2
}
