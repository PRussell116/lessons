{
 "cells": [
  {
   "cell_type": "code",
   "execution_count": 3,
   "metadata": {},
   "outputs": [
    {
     "name": "stdout",
     "output_type": "stream",
     "text": [
      "[1, 2, 3, 5, 6, 7, 8, 9, 18, 23]\n"
     ]
    }
   ],
   "source": [
    "unsortedList = [5,23,6,7,18,8,9,3,1,2]\n",
    "listLength = len(unsortedList)\n",
    "for i in range(listLength):\n",
    "    j = i\n",
    "    while(j > 0 and unsortedList[j] < unsortedList[j-1]):\n",
    "        # swap if its smaller\n",
    "        temp = unsortedList[j]\n",
    "        unsortedList[j] = unsortedList[j-1]\n",
    "        unsortedList[j-1] = temp\n",
    "        j = j -1\n",
    "print(unsortedList)"
   ]
  }
 ],
 "metadata": {
  "kernelspec": {
   "display_name": "Python 3.10.4 64-bit",
   "language": "python",
   "name": "python3"
  },
  "language_info": {
   "codemirror_mode": {
    "name": "ipython",
    "version": 3
   },
   "file_extension": ".py",
   "mimetype": "text/x-python",
   "name": "python",
   "nbconvert_exporter": "python",
   "pygments_lexer": "ipython3",
   "version": "3.10.4"
  },
  "orig_nbformat": 4,
  "vscode": {
   "interpreter": {
    "hash": "68a4255ffac02f175910f4ac8746557d0bd2381bbe75a048e653626df842db98"
   }
  }
 },
 "nbformat": 4,
 "nbformat_minor": 2
}
