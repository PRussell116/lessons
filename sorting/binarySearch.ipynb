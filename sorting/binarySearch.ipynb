{
 "cells": [
  {
   "cell_type": "code",
   "execution_count": 3,
   "metadata": {},
   "outputs": [
    {
     "name": "stdout",
     "output_type": "stream",
     "text": [
      "not in list\n"
     ]
    }
   ],
   "source": [
    "listOfNums = [1,3,4,5,7,8,9,12,15,19,20,25,31]\n",
    "target = 6\n",
    "leftPointer = 0\n",
    "rightPointer = len(listOfNums) -1\n",
    "\n",
    "result = \"not in list\"\n",
    "while(leftPointer <= rightPointer):\n",
    "\n",
    "    middle = (leftPointer + rightPointer) //2\n",
    "    currentNum = listOfNums[middle]\n",
    "    \n",
    "    if currentNum == target:\n",
    "        result = \"target : \" + str(target) + \" is at position :\" +str(middle)\n",
    "        break\n",
    "    elif(currentNum > target):\n",
    "        rightPointer = middle - 1\n",
    "    else:\n",
    "        leftPointer = middle + 1\n",
    "print(result)\n"
   ]
  }
 ],
 "metadata": {
  "kernelspec": {
   "display_name": "Python 3.10.4 64-bit",
   "language": "python",
   "name": "python3"
  },
  "language_info": {
   "codemirror_mode": {
    "name": "ipython",
    "version": 3
   },
   "file_extension": ".py",
   "mimetype": "text/x-python",
   "name": "python",
   "nbconvert_exporter": "python",
   "pygments_lexer": "ipython3",
   "version": "3.10.4"
  },
  "orig_nbformat": 4,
  "vscode": {
   "interpreter": {
    "hash": "68a4255ffac02f175910f4ac8746557d0bd2381bbe75a048e653626df842db98"
   }
  }
 },
 "nbformat": 4,
 "nbformat_minor": 2
}
