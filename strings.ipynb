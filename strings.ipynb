{
 "cells": [
  {
   "cell_type": "markdown",
   "metadata": {},
   "source": [
    "Strings are lists of characters\n",
    "\n",
    "e.g \"Hello\"  \"1w2n\" \"******\"\n",
    "\n",
    "Individual characters can be acessed in a string"
   ]
  },
  {
   "cell_type": "code",
   "execution_count": 1,
   "metadata": {},
   "outputs": [
    {
     "name": "stdout",
     "output_type": "stream",
     "text": [
      "h\n"
     ]
    }
   ],
   "source": [
    "exampleString = \"hello\"\n",
    "\n",
    "exampleCharacter = exampleString[0] # counting in python starts at 0\n",
    "\n",
    "print(exampleCharacter)"
   ]
  },
  {
   "cell_type": "markdown",
   "metadata": {},
   "source": [
    "Using the input fuction write a function to get the second character of a string"
   ]
  },
  {
   "cell_type": "code",
   "execution_count": null,
   "metadata": {},
   "outputs": [],
   "source": [
    "#your code goes here"
   ]
  },
  {
   "cell_type": "markdown",
   "metadata": {},
   "source": [
    "The length of a string can be found using the length fuction"
   ]
  },
  {
   "cell_type": "code",
   "execution_count": null,
   "metadata": {},
   "outputs": [],
   "source": [
    "exampleString = \"example\"\n",
    "print(exampleString.length)"
   ]
  },
  {
   "cell_type": "markdown",
   "metadata": {},
   "source": [
    "Write a fuction to check the length of a string, if the string is longer than 6 characters print a message saying it is too long otherwise print a message saying it is the right length "
   ]
  },
  {
   "cell_type": "code",
   "execution_count": null,
   "metadata": {},
   "outputs": [],
   "source": [
    "#your code goes here"
   ]
  },
  {
   "cell_type": "markdown",
   "metadata": {},
   "source": [
    "Write a fuction that prints a message if a string is shorter than or equal to 3 characters and prints a different message if it is greater than 3 and less than 8 characters, and prints another message if it is larger than 8 characters"
   ]
  },
  {
   "cell_type": "code",
   "execution_count": null,
   "metadata": {},
   "outputs": [],
   "source": [
    "#your code goes here"
   ]
  },
  {
   "cell_type": "markdown",
   "metadata": {},
   "source": [
    "Using the input fuction write a fuction that prints \"hello\" if the last letter of the input is \"e\""
   ]
  },
  {
   "cell_type": "code",
   "execution_count": 3,
   "metadata": {},
   "outputs": [],
   "source": [
    "#your code goes here"
   ]
  },
  {
   "cell_type": "markdown",
   "metadata": {},
   "source": [
    "Strings can be concactenated (combined) using + "
   ]
  },
  {
   "cell_type": "code",
   "execution_count": null,
   "metadata": {},
   "outputs": [],
   "source": [
    "part1 = \"I like \"\n",
    "part2 = \"cheese\"\n",
    "\n",
    "print(part1 + part2)\n",
    "\n",
    "# What would print(part2 + part1) print?\n",
    "\n",
    "# What would part2 + part2 + part2 be equal to"
   ]
  },
  {
   "cell_type": "markdown",
   "metadata": {},
   "source": [
    "Write a fuction that concatenates the first letter of a word to the end of a word and prints it"
   ]
  },
  {
   "cell_type": "code",
   "execution_count": null,
   "metadata": {},
   "outputs": [],
   "source": [
    "#your code goes here"
   ]
  },
  {
   "cell_type": "markdown",
   "metadata": {},
   "source": [
    "replace can be used to remove or replace letters in a string"
   ]
  },
  {
   "cell_type": "code",
   "execution_count": 9,
   "metadata": {},
   "outputs": [
    {
     "name": "stdout",
     "output_type": "stream",
     "text": [
      "chs\n",
      "cheese\n"
     ]
    }
   ],
   "source": [
    "exampleString = \"cheese\"\n",
    "exampleString = exampleString.replace(\"e\",\"\") # \"\" means nothing so this will delete all e\n",
    "print(exampleString)\n",
    "\n"
   ]
  },
  {
   "cell_type": "code",
   "execution_count": 10,
   "metadata": {},
   "outputs": [
    {
     "name": "stdout",
     "output_type": "stream",
     "text": [
      "bheese\n"
     ]
    }
   ],
   "source": [
    "exampleString = \"cheese\"\n",
    "exampleString = exampleString.replace(\"c\",\"b\")\n",
    "print(exampleString)"
   ]
  },
  {
   "cell_type": "markdown",
   "metadata": {},
   "source": [
    "Substrings are strings that are within strings. for example car is a substring of carpet"
   ]
  },
  {
   "cell_type": "code",
   "execution_count": 15,
   "metadata": {},
   "outputs": [
    {
     "name": "stdout",
     "output_type": "stream",
     "text": [
      "car\n"
     ]
    }
   ],
   "source": [
    "example = \"carpet\"\n",
    "substring = example[0:3]\n",
    "print(substring)"
   ]
  },
  {
   "cell_type": "code",
   "execution_count": 14,
   "metadata": {},
   "outputs": [
    {
     "name": "stdout",
     "output_type": "stream",
     "text": [
      "ell\n"
     ]
    }
   ],
   "source": [
    "exampleString = \"hello\"\n",
    "exampleSubString = exampleString[1:4]\n",
    "print(exampleSubString)"
   ]
  },
  {
   "cell_type": "markdown",
   "metadata": {},
   "source": [
    "The first part is where the substring starts and the second number is where it ends, so e = 1 and o = 4"
   ]
  },
  {
   "cell_type": "markdown",
   "metadata": {},
   "source": [
    "Write a substring that will print the word python from the string below. Then find the substring for the word code"
   ]
  },
  {
   "cell_type": "code",
   "execution_count": null,
   "metadata": {},
   "outputs": [],
   "source": [
    "string = \"I code in python\" \n",
    "# Your code goes here"
   ]
  },
  {
   "cell_type": "markdown",
   "metadata": {},
   "source": [
    "Sometimes we need to convert a string to a number so that we can do maths with it"
   ]
  },
  {
   "cell_type": "code",
   "execution_count": 16,
   "metadata": {},
   "outputs": [
    {
     "name": "stdout",
     "output_type": "stream",
     "text": [
      "55555\n"
     ]
    }
   ],
   "source": [
    "string = \"5\"\n",
    "\n",
    "print(string * 5)"
   ]
  },
  {
   "cell_type": "markdown",
   "metadata": {},
   "source": [
    "varibles can be cast to a different type i.e TYPE(varible). where type would be something like string, int or float"
   ]
  },
  {
   "cell_type": "code",
   "execution_count": 17,
   "metadata": {},
   "outputs": [
    {
     "name": "stdout",
     "output_type": "stream",
     "text": [
      "25\n"
     ]
    }
   ],
   "source": [
    "string = \"5\"\n",
    "\n",
    "num = int(string)\n",
    "print(num * 5)\n"
   ]
  },
  {
   "cell_type": "markdown",
   "metadata": {},
   "source": [
    "This code is supposed to get the last digit in the number. Can you fix the code?"
   ]
  },
  {
   "cell_type": "code",
   "execution_count": 25,
   "metadata": {},
   "outputs": [
    {
     "name": "stdout",
     "output_type": "stream",
     "text": [
      "4\n"
     ]
    }
   ],
   "source": [
    "num = 1054\n",
    "\n",
    "lastDigit = num[-1]\n",
    "print(lastDigit)"
   ]
  },
  {
   "cell_type": "markdown",
   "metadata": {},
   "source": [
    "Individual characters can also be represented in ASCII, ASCII are numbers which represent a character\n",
    "\n",
    "https://upload.wikimedia.org/wikipedia/commons/thumb/1/1b/ASCII-Table-wide.svg/2560px-ASCII-Table-wide.svg.png\n",
    "\n",
    "You can convert a character to ascii using ord()\n",
    "\n",
    "And convert back using char()"
   ]
  },
  {
   "cell_type": "code",
   "execution_count": 31,
   "metadata": {},
   "outputs": [
    {
     "name": "stdout",
     "output_type": "stream",
     "text": [
      "97\n",
      "U\n"
     ]
    }
   ],
   "source": [
    "character = 'a'\n",
    "print(ord(character))\n",
    "\n",
    "asciiVal = 85\n",
    "print(chr(asciiVal))"
   ]
  },
  {
   "cell_type": "markdown",
   "metadata": {},
   "source": [
    "This can be useful when you want to move characters along along the alphabet"
   ]
  },
  {
   "cell_type": "code",
   "execution_count": 27,
   "metadata": {},
   "outputs": [
    {
     "name": "stdout",
     "output_type": "stream",
     "text": [
      "f\n"
     ]
    }
   ],
   "source": [
    "character = 'a'\n",
    "newCharCode = ord(character) + 5\n",
    "newChar = chr(newCharCode)\n",
    "print(newChar)"
   ]
  },
  {
   "cell_type": "markdown",
   "metadata": {},
   "source": [
    "Using the loop provided create a fuction that moves each letter 5 letters along the alphabet a message"
   ]
  },
  {
   "cell_type": "code",
   "execution_count": null,
   "metadata": {},
   "outputs": [],
   "source": [
    "message = \"im going to rob the bank\"\n",
    "newMessage = \"\"\n",
    "for letter in message:\n",
    "    # convert and move letters \n",
    "    \n",
    "    #add new letter to new message\n",
    "\n",
    "print(newMessage)"
   ]
  }
 ],
 "metadata": {
  "interpreter": {
   "hash": "e8a9d9c0049f770700a924b5114098157d74b7b63c723a7981c84b33246f8fc4"
  },
  "kernelspec": {
   "display_name": "Python 3.10.4 64-bit",
   "language": "python",
   "name": "python3"
  },
  "language_info": {
   "codemirror_mode": {
    "name": "ipython",
    "version": 3
   },
   "file_extension": ".py",
   "mimetype": "text/x-python",
   "name": "python",
   "nbconvert_exporter": "python",
   "pygments_lexer": "ipython3",
   "version": "3.10.4"
  },
  "orig_nbformat": 4
 },
 "nbformat": 4,
 "nbformat_minor": 2
}
