{
 "cells": [
  {
   "cell_type": "markdown",
   "metadata": {},
   "source": [
    "Strings are lists of characters\n",
    "\n",
    "e.g \"Hello\"  \"1w2n\" \"******\"\n",
    "\n",
    "Individual characters can be acessed in a string"
   ]
  },
  {
   "cell_type": "code",
   "execution_count": null,
   "metadata": {},
   "outputs": [],
   "source": [
    "exampleString = \"hello\"\n",
    "\n",
    "exampleCharacter = exampleString[0] # counting in python starts at 0\n",
    "\n",
    "print(exampleCharacter)"
   ]
  },
  {
   "cell_type": "markdown",
   "metadata": {},
   "source": [
    "Using the input fuction write a function to get the second character of a string"
   ]
  },
  {
   "cell_type": "code",
   "execution_count": 17,
   "metadata": {},
   "outputs": [
    {
     "name": "stdout",
     "output_type": "stream",
     "text": [
      "e\n"
     ]
    }
   ],
   "source": [
    "#your code goes here\n",
    "letter = input(\"write a word\")\n",
    "secondChar = letter[1]\n",
    "print(secondChar)"
   ]
  },
  {
   "cell_type": "markdown",
   "metadata": {},
   "source": [
    "What happens if the string is less than 2 letters?"
   ]
  },
  {
   "cell_type": "markdown",
   "metadata": {},
   "source": [
    "The length of a string can be found using the length fuction"
   ]
  },
  {
   "cell_type": "code",
   "execution_count": 18,
   "metadata": {},
   "outputs": [
    {
     "name": "stdout",
     "output_type": "stream",
     "text": [
      "7\n"
     ]
    }
   ],
   "source": [
    "exampleString = \"example\"\n",
    "print(len(exampleString))"
   ]
  },
  {
   "cell_type": "markdown",
   "metadata": {},
   "source": [
    "Write a fuction to check the length of a string, if the string is longer than 6 characters print a message saying it is too long otherwise print a message saying it is the right length "
   ]
  },
  {
   "cell_type": "code",
   "execution_count": 20,
   "metadata": {},
   "outputs": [
    {
     "name": "stdout",
     "output_type": "stream",
     "text": [
      "too long \n"
     ]
    }
   ],
   "source": [
    "#your code goes here\n",
    "exampleString = input(\"write\")\n",
    "if(len(exampleString)>6):\n",
    "    print (\"too long \")\n",
    "else :print (\"it ok \")\n"
   ]
  },
  {
   "cell_type": "markdown",
   "metadata": {},
   "source": [
    "Write a fuction that prints a message if a string is shorter than or equal to 3 characters and prints a different message if it is greater than 3 and less than 8 characters, and prints another message if it is larger than 8 characters"
   ]
  },
  {
   "cell_type": "code",
   "execution_count": 29,
   "metadata": {},
   "outputs": [
    {
     "name": "stdout",
     "output_type": "stream",
     "text": [
      "too short \n"
     ]
    }
   ],
   "source": [
    "#your code goes here\n",
    "exampleString = input(\"write\")\n",
    "if(len(exampleString)<=3):\n",
    "    print (\"too short \")\n",
    "elif (len(exampleString)>3 and len(exampleString)<8):\n",
    "    print (\"good length\")\n",
    "else :print (\"it ok \")\n"
   ]
  },
  {
   "cell_type": "markdown",
   "metadata": {},
   "source": [
    "Using the input fuction write a fuction that prints \"hello\" if the last letter of the input is \"e\""
   ]
  },
  {
   "cell_type": "code",
   "execution_count": 32,
   "metadata": {},
   "outputs": [
    {
     "name": "stdout",
     "output_type": "stream",
     "text": [
      "Hello\n"
     ]
    }
   ],
   "source": [
    "#your code goes here\n",
    "test=input(\"write something with it ending with e\")\n",
    "lastLetter = test[len(test)-1]\n",
    "if(lastLetter == \"e\"):\n",
    "    print (\"Hello\")\n"
   ]
  },
  {
   "cell_type": "markdown",
   "metadata": {},
   "source": [
    "put a copy of the last letter to front"
   ]
  },
  {
   "cell_type": "code",
   "execution_count": 45,
   "metadata": {},
   "outputs": [
    {
     "name": "stdout",
     "output_type": "stream",
     "text": [
      "ohello\n"
     ]
    }
   ],
   "source": [
    "#your code goes here\n",
    "test=input(\"write something with it ending with e\")\n",
    "lastLetter = test[len(test)-1]\n",
    "print(lastLetter + test)\n"
   ]
  },
  {
   "cell_type": "markdown",
   "metadata": {},
   "source": [
    "if a word is 6 chars or more print the first 3 letters"
   ]
  },
  {
   "cell_type": "code",
   "execution_count": 47,
   "metadata": {},
   "outputs": [],
   "source": [
    "word = \"afg\"\n",
    "if(len(word)>=6):\n",
    "    print (word[0] + word[1] + word[2])"
   ]
  },
  {
   "cell_type": "markdown",
   "metadata": {},
   "source": [
    "Write a fuction that compares 2 strings and prints the one with more letters"
   ]
  },
  {
   "cell_type": "code",
   "execution_count": 33,
   "metadata": {},
   "outputs": [
    {
     "name": "stdout",
     "output_type": "stream",
     "text": [
      "good\n"
     ]
    }
   ],
   "source": [
    "string1 = input(\"input the first word\")\n",
    "string2 = input(\"input the second word\")\n",
    "#your code goes here\n",
    "if(len(string1)>len(string2)):\n",
    "    print (string1)\n",
    "else:print (string2)"
   ]
  },
  {
   "cell_type": "markdown",
   "metadata": {},
   "source": [
    "Strings can be concactenated (combined) using + "
   ]
  },
  {
   "cell_type": "code",
   "execution_count": 34,
   "metadata": {},
   "outputs": [
    {
     "name": "stdout",
     "output_type": "stream",
     "text": [
      "I like cheese\n"
     ]
    }
   ],
   "source": [
    "part1 = \"I like \"\n",
    "part2 = \"cheese\"\n",
    "\n",
    "print(part1 + part2)\n",
    "\n",
    "# What would print(part2 + part1) print?\n",
    "\n",
    "# What would part2 + part2 + part2 be equal to"
   ]
  },
  {
   "cell_type": "markdown",
   "metadata": {},
   "source": [
    "Write a fuction that concatenates the first letter of a word to the end of a word and prints it \n",
    "\n",
    "e.g. hello ->helloh"
   ]
  },
  {
   "cell_type": "code",
   "execution_count": 37,
   "metadata": {},
   "outputs": [
    {
     "name": "stdout",
     "output_type": "stream",
     "text": [
      "helloh\n"
     ]
    }
   ],
   "source": [
    "#your code goes here\n",
    "word = input(\"write something\")\n",
    "firstLetter = word[0]\n",
    "print(word + firstLetter)\n",
    "\n"
   ]
  },
  {
   "cell_type": "markdown",
   "metadata": {},
   "source": [
    "Write a fuction that concatenates 2 strings and then prints the combined string and its length"
   ]
  },
  {
   "cell_type": "code",
   "execution_count": 40,
   "metadata": {},
   "outputs": [
    {
     "name": "stdout",
     "output_type": "stream",
     "text": [
      "theand  6\n"
     ]
    }
   ],
   "source": [
    "#your code goes here\n",
    "\n",
    "#new varible =  add 2 words\n",
    "# \n",
    "# print new word + length  \n",
    "string1 = input(\"one\")\n",
    "string2 = input(\"word 2\")\n",
    "combined = string1 + string2\n",
    "print(combined + \"  \" + str(len(combined)))"
   ]
  },
  {
   "cell_type": "code",
   "execution_count": 43,
   "metadata": {},
   "outputs": [
    {
     "name": "stdout",
     "output_type": "stream",
     "text": [
      "hello\n"
     ]
    }
   ],
   "source": [
    "stringEx = \"HELLO\"\n",
    "print(stringEx.lower())\n",
    "\n"
   ]
  },
  {
   "cell_type": "markdown",
   "metadata": {},
   "source": [
    "Strings can also be split apart using split() . Nothing between the brackets will split the string up based on spaces"
   ]
  },
  {
   "cell_type": "code",
   "execution_count": null,
   "metadata": {},
   "outputs": [],
   "source": [
    "example = \"This is an example\"\n",
    "splitWord = example.split()\n",
    "print(splitWord[0])\n",
    "print(splitWord[len(splitWord)-1])"
   ]
  },
  {
   "cell_type": "markdown",
   "metadata": {},
   "source": [
    "Write a fuction that returns the last word in a sentence in all caps. \n",
    "\n",
    "hint : .upper() can be used to get the upper case of a string"
   ]
  },
  {
   "cell_type": "code",
   "execution_count": null,
   "metadata": {},
   "outputs": [],
   "source": [
    "sentence = \"the grass is green\"\n",
    "#your code goes here\n",
    "\n"
   ]
  },
  {
   "cell_type": "markdown",
   "metadata": {},
   "source": [
    "replace can be used to remove or replace letters in a string"
   ]
  },
  {
   "cell_type": "code",
   "execution_count": null,
   "metadata": {},
   "outputs": [],
   "source": [
    "exampleString = \"cheese\"\n",
    "exampleString = exampleString.replace(\"e\",\"\") # \"\" means nothing so this will delete all e\n",
    "print(exampleString)\n",
    "\n"
   ]
  },
  {
   "cell_type": "code",
   "execution_count": null,
   "metadata": {},
   "outputs": [],
   "source": [
    "exampleString = \"cheese\"\n",
    "exampleString = exampleString.replace(\"c\",\"b\")\n",
    "print(exampleString)"
   ]
  },
  {
   "cell_type": "markdown",
   "metadata": {},
   "source": [
    "Write a fuction that deletes all letters that are the same as the first letter in a word\n",
    "\n",
    "e.g. aabbacad ->  bbcd\n"
   ]
  },
  {
   "cell_type": "code",
   "execution_count": null,
   "metadata": {},
   "outputs": [],
   "source": [
    "#your code goes here"
   ]
  },
  {
   "cell_type": "markdown",
   "metadata": {},
   "source": [
    "Substrings are strings that are within strings. for example car is a substring of carpet"
   ]
  },
  {
   "cell_type": "code",
   "execution_count": null,
   "metadata": {},
   "outputs": [],
   "source": [
    "example = \"carpet\"\n",
    "substring = example[0:3]\n",
    "print(substring)"
   ]
  },
  {
   "cell_type": "code",
   "execution_count": null,
   "metadata": {},
   "outputs": [],
   "source": [
    "exampleString = \"hello\"\n",
    "exampleSubString = exampleString[1:4]\n",
    "print(exampleSubString)"
   ]
  },
  {
   "cell_type": "markdown",
   "metadata": {},
   "source": [
    "The first part is where the substring starts and the second number is where it ends, so e = 1 and o = 4"
   ]
  },
  {
   "cell_type": "markdown",
   "metadata": {},
   "source": [
    "Write a substring that will print the word python from the string below. Then find the substring for the word code"
   ]
  },
  {
   "cell_type": "code",
   "execution_count": null,
   "metadata": {},
   "outputs": [],
   "source": [
    "string = \"I code in python\" \n",
    "# Your code goes here"
   ]
  },
  {
   "cell_type": "markdown",
   "metadata": {},
   "source": [
    "Sometimes we need to convert a string to a number so that we can do maths with it"
   ]
  },
  {
   "cell_type": "code",
   "execution_count": null,
   "metadata": {},
   "outputs": [],
   "source": [
    "string = \"5\"\n",
    "\n",
    "print(string * 5)"
   ]
  },
  {
   "cell_type": "markdown",
   "metadata": {},
   "source": [
    "varibles can be cast to a different type i.e TYPE(varible). where type would be something like string, int or float"
   ]
  },
  {
   "cell_type": "code",
   "execution_count": null,
   "metadata": {},
   "outputs": [],
   "source": [
    "string = \"5\"\n",
    "\n",
    "num = int(string)\n",
    "print(num * 5)\n"
   ]
  },
  {
   "cell_type": "markdown",
   "metadata": {},
   "source": [
    "This code is supposed to get the last digit in the number. Can you fix the code?"
   ]
  },
  {
   "cell_type": "code",
   "execution_count": null,
   "metadata": {},
   "outputs": [],
   "source": [
    "num = 1054\n",
    "\n",
    "lastDigit = num[-1]\n",
    "print(lastDigit)"
   ]
  },
  {
   "cell_type": "markdown",
   "metadata": {},
   "source": [
    "Individual characters can also be represented in ASCII, ASCII are numbers which represent a character\n",
    "\n",
    "https://upload.wikimedia.org/wikipedia/commons/thumb/1/1b/ASCII-Table-wide.svg/2560px-ASCII-Table-wide.svg.png\n",
    "\n",
    "You can convert a character to ascii using ord()\n",
    "\n",
    "And convert back using char()"
   ]
  },
  {
   "cell_type": "code",
   "execution_count": null,
   "metadata": {},
   "outputs": [],
   "source": [
    "character = 'a'\n",
    "print(ord(character))\n",
    "\n",
    "asciiVal = 85\n",
    "print(chr(asciiVal))"
   ]
  },
  {
   "cell_type": "markdown",
   "metadata": {},
   "source": [
    "This can be useful when you want to move characters along along the alphabet"
   ]
  },
  {
   "cell_type": "code",
   "execution_count": null,
   "metadata": {},
   "outputs": [],
   "source": [
    "character = 'a'\n",
    "newCharCode = ord(character) + 5\n",
    "newChar = chr(newCharCode)\n",
    "print(newChar)"
   ]
  }
 ],
 "metadata": {
  "interpreter": {
   "hash": "e8a9d9c0049f770700a924b5114098157d74b7b63c723a7981c84b33246f8fc4"
  },
  "kernelspec": {
   "display_name": "Python 3.10.4 64-bit",
   "language": "python",
   "name": "python3"
  },
  "language_info": {
   "codemirror_mode": {
    "name": "ipython",
    "version": 3
   },
   "file_extension": ".py",
   "mimetype": "text/x-python",
   "name": "python",
   "nbconvert_exporter": "python",
   "pygments_lexer": "ipython3",
   "version": "3.10.4"
  },
  "orig_nbformat": 4
 },
 "nbformat": 4,
 "nbformat_minor": 2
}
