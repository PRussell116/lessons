{
 "cells": [
  {
   "cell_type": "markdown",
   "metadata": {},
   "source": [
    "A fast food company charges £1.50 for delivery to your house except for orders of £10 or more where delivery is free. Write code that asks for the basic price of an order and prints \"The total price of your order is  ...\" where ... is the total price "
   ]
  },
  {
   "cell_type": "code",
   "execution_count": null,
   "metadata": {},
   "outputs": [],
   "source": []
  },
  {
   "cell_type": "markdown",
   "metadata": {},
   "source": [
    "Given a number print the times table for that number"
   ]
  },
  {
   "cell_type": "code",
   "execution_count": null,
   "metadata": {},
   "outputs": [],
   "source": []
  },
  {
   "cell_type": "markdown",
   "metadata": {},
   "source": [
    "A train company prices tickets based on journey distance : tickets cost £3 plus 15p for each kilometre (e.g. a ticket for 100 km costs £18). However people over 60 and people under 15 get a 40% discount write a program that takes the :\n",
    "\n",
    "- journey distance (int)\n",
    "- age of the passenger (int)\n",
    "\n",
    "print the price of the ticket"
   ]
  },
  {
   "cell_type": "code",
   "execution_count": null,
   "metadata": {},
   "outputs": [],
   "source": []
  },
  {
   "cell_type": "markdown",
   "metadata": {},
   "source": [
    "Write a program that adds all numbers up to the given number and prints the results\n",
    "\n",
    "i.e  \n",
    "- 3 = 1 + 2 + 3 = 5\n",
    "- 5 = 1 + 2 + 3 + 4 + 5 = 14\n"
   ]
  },
  {
   "cell_type": "code",
   "execution_count": null,
   "metadata": {},
   "outputs": [],
   "source": []
  },
  {
   "cell_type": "markdown",
   "metadata": {},
   "source": [
    "Write a program to find a factorial of an input number\n",
    "\n",
    "factorial is all numbers before a number multipled together with the number\n",
    "\n",
    "i.e. \n",
    "\n",
    "- 4! = 1 * 2 * 3 * 4 = 24\n",
    "\n",
    "- 9! = 9 * 8 * 7 * 6 * 5 * 4 * 3 * 2 * 1 = 362880"
   ]
  },
  {
   "cell_type": "code",
   "execution_count": null,
   "metadata": {},
   "outputs": [],
   "source": [
    "num = int(input(\"enter a number\"))"
   ]
  },
  {
   "cell_type": "markdown",
   "metadata": {},
   "source": [
    "Two values are inputted use a loop to find one number to the power of the other \n",
    "\n",
    "i.e \n",
    "\n",
    "- input 1 : 2  \n",
    "\n",
    "- input 2 : 5     \n",
    "\n",
    "- result =  2^5\n",
    "\n",
    "\n",
    "reminder ^ means multiplied by itself that many times i.e 4^3 = 4 * 4 *4"
   ]
  },
  {
   "cell_type": "code",
   "execution_count": null,
   "metadata": {},
   "outputs": [],
   "source": []
  },
  {
   "cell_type": "markdown",
   "metadata": {},
   "source": [
    "use a for loop to find the largest number in a list, print its position and value"
   ]
  },
  {
   "cell_type": "code",
   "execution_count": null,
   "metadata": {},
   "outputs": [],
   "source": [
    "nums = [9,3,2,1,2,45,3,4]"
   ]
  },
  {
   "cell_type": "markdown",
   "metadata": {},
   "source": [
    "Given list of years calcualte which are leap years. Years which are divisible by 4 are leap years except for years which are divisible by 100. \n",
    "\n",
    "hint use % this finds the remainder"
   ]
  },
  {
   "cell_type": "code",
   "execution_count": null,
   "metadata": {},
   "outputs": [],
   "source": [
    "listOfYears  = [2000,2004,2009,2020,2024,2100]"
   ]
  },
  {
   "cell_type": "markdown",
   "metadata": {},
   "source": [
    "A school teacher is marking work out of 20 but needs to translate marks to a grade A,B,C, or F (marks > 16 get A,marks between 12 and 15 give B, between 8 and 11 are C and marks below 8 are F)\n",
    "\n",
    "Given a list of marks print a list of grades\n",
    "\n",
    "- hint :use your own list called grades and add to the list using .append()"
   ]
  },
  {
   "cell_type": "code",
   "execution_count": null,
   "metadata": {},
   "outputs": [],
   "source": [
    "listOfMarks = [18,3,14,12,11]# a f b b c\n"
   ]
  },
  {
   "cell_type": "markdown",
   "metadata": {},
   "source": [
    "Given a list of numbers find the average\n",
    "\n",
    "i.e. All the numbers added together and divided by how many numbers there are \n"
   ]
  },
  {
   "cell_type": "code",
   "execution_count": null,
   "metadata": {},
   "outputs": [],
   "source": [
    "nums = [8,4,2,1,3,5,6,7,8,3,2,4,5] # 4.461\n"
   ]
  },
  {
   "cell_type": "markdown",
   "metadata": {},
   "source": [
    "Given an input check if it exists in the list, print its location, if its not in the list print not in list"
   ]
  },
  {
   "cell_type": "code",
   "execution_count": null,
   "metadata": {},
   "outputs": [],
   "source": [
    "target = int(input(\"enter the number that you are looking for\"))\n",
    "nums = [9,3,2,1,2,45,3,4]"
   ]
  },
  {
   "cell_type": "markdown",
   "metadata": {},
   "source": []
  },
  {
   "cell_type": "markdown",
   "metadata": {},
   "source": [
    "Given a list print the list in reverse"
   ]
  },
  {
   "cell_type": "code",
   "execution_count": null,
   "metadata": {},
   "outputs": [],
   "source": [
    "listOfNames = [\"alice\",\"bob\",\"charles\",\"dan\"]\n"
   ]
  },
  {
   "cell_type": "markdown",
   "metadata": {},
   "source": [
    "Write a program to print following :\n",
    "\n",
    "**********\n",
    "**********\n",
    "**********\n",
    "**********"
   ]
  },
  {
   "cell_type": "code",
   "execution_count": null,
   "metadata": {},
   "outputs": [],
   "source": []
  },
  {
   "cell_type": "markdown",
   "metadata": {},
   "source": [
    "Print the fibonaci sequence given up to input n"
   ]
  },
  {
   "cell_type": "code",
   "execution_count": null,
   "metadata": {},
   "outputs": [],
   "source": [
    "howManyNums = int(input(\"how many numbers to find?\"))\n",
    "previousNum = 1\n",
    "currentNum = 1"
   ]
  },
  {
   "cell_type": "markdown",
   "metadata": {},
   "source": [
    "You can put a loop inside another loop, This is called a nested for loop "
   ]
  },
  {
   "cell_type": "code",
   "execution_count": null,
   "metadata": {},
   "outputs": [],
   "source": [
    "for i in range(3):\n",
    "    print(\"outer loop with i = \",i)\n",
    "    for j in range(4):\n",
    "        print(\"inner loop with i = \",i,\"and j = \",j) # this part is run 12 times "
   ]
  },
  {
   "cell_type": "markdown",
   "metadata": {},
   "source": [
    "Write a program to print following :\n",
    "\n",
    "*\n",
    "**\n",
    "***\n",
    "****\n",
    "*****"
   ]
  },
  {
   "cell_type": "code",
   "execution_count": null,
   "metadata": {},
   "outputs": [],
   "source": []
  },
  {
   "cell_type": "markdown",
   "metadata": {},
   "source": [
    "Write a program to print the following\n",
    "\n",
    "12345\n",
    "1234\n",
    "123\n",
    "12\n",
    "1"
   ]
  },
  {
   "cell_type": "code",
   "execution_count": null,
   "metadata": {},
   "outputs": [],
   "source": []
  },
  {
   "cell_type": "code",
   "execution_count": null,
   "metadata": {},
   "outputs": [],
   "source": [
    "swapHappened = True\n",
    "unsortedList = [5,23,6,7,18,8,9,3,1,2]\n",
    "\n",
    "while(swapHappened == True):\n",
    "    swapHappened = False\n",
    "    for i in range (len(unsortedList)):\n",
    "        if i< len(unsortedList)-1 and unsortedList[i] > unsortedList[i+1]:\n",
    "            swapHappened = True\n",
    "            smallerNum = unsortedList[i+1]\n",
    "            unsortedList[i+1] = unsortedList[i]\n",
    "            unsortedList[i] = smallerNum\n",
    "    \n",
    "print( unsortedList)"
   ]
  }
 ],
 "metadata": {
  "kernelspec": {
   "display_name": "Python 3.10.4 64-bit",
   "language": "python",
   "name": "python3"
  },
  "language_info": {
   "codemirror_mode": {
    "name": "ipython",
    "version": 3
   },
   "file_extension": ".py",
   "mimetype": "text/x-python",
   "name": "python",
   "nbconvert_exporter": "python",
   "pygments_lexer": "ipython3",
   "version": "3.10.4"
  },
  "orig_nbformat": 4,
  "vscode": {
   "interpreter": {
    "hash": "68a4255ffac02f175910f4ac8746557d0bd2381bbe75a048e653626df842db98"
   }
  }
 },
 "nbformat": 4,
 "nbformat_minor": 2
}
