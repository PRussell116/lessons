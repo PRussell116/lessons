{
 "cells": [
  {
   "cell_type": "markdown",
   "metadata": {},
   "source": [
    "Loops can be used to used do things multiple times in a row\n",
    "\n",
    "for loops are used when we know how many times we need to loop"
   ]
  },
  {
   "cell_type": "code",
   "execution_count": null,
   "metadata": {},
   "outputs": [],
   "source": [
    "for i in range(5): \n",
    "    print(\"hello\") # NOTE :range 5 is 0 - 4 not 1 - 5"
   ]
  },
  {
   "cell_type": "markdown",
   "metadata": {},
   "source": [
    "Use a for loop to count to 10"
   ]
  },
  {
   "cell_type": "code",
   "execution_count": 6,
   "metadata": {},
   "outputs": [
    {
     "name": "stdout",
     "output_type": "stream",
     "text": [
      "1\n",
      "2\n",
      "3\n",
      "4\n",
      "5\n",
      "6\n",
      "7\n",
      "8\n",
      "9\n",
      "10\n"
     ]
    }
   ],
   "source": [
    "for i in range(10):\n",
    "    print (i+1)"
   ]
  },
  {
   "cell_type": "markdown",
   "metadata": {},
   "source": [
    "We can use a for loop to go through arrays"
   ]
  },
  {
   "cell_type": "code",
   "execution_count": 7,
   "metadata": {},
   "outputs": [
    {
     "name": "stdout",
     "output_type": "stream",
     "text": [
      "apple\n",
      "mango\n",
      "grape\n"
     ]
    }
   ],
   "source": [
    "fruits = [\"apple\",\"mango\",\"grape\"]\n",
    "for fruit in fruits:\n",
    "    print(fruit)"
   ]
  },
  {
   "cell_type": "markdown",
   "metadata": {},
   "source": [
    "Write a for loop that says hello ___ to everyone in a list where blank is their name"
   ]
  },
  {
   "cell_type": "code",
   "execution_count": 8,
   "metadata": {},
   "outputs": [
    {
     "name": "stdout",
     "output_type": "stream",
     "text": [
      "Hello joe\n",
      "Hello helen\n",
      "Hello sue\n",
      "Hello charles\n"
     ]
    }
   ],
   "source": [
    "peopleToGreet = [\"joe\",\"helen\",\"sue\",\"charles\"]\n",
    "for people in peopleToGreet:\n",
    "    print(\"Hello \"+people)"
   ]
  },
  {
   "cell_type": "markdown",
   "metadata": {},
   "source": [
    "write a for loop that prints YES if mango is in the list"
   ]
  },
  {
   "cell_type": "code",
   "execution_count": 10,
   "metadata": {},
   "outputs": [],
   "source": [
    "fruits = [\"apple\",\"pear\",\"grape\",\"\",\"strawberry\"]\n",
    "for fruit in fruits:\n",
    "    if (fruit == \"mango\"):\n",
    "        print (\"yes\")"
   ]
  },
  {
   "cell_type": "markdown",
   "metadata": {},
   "source": [
    "using a for loop print each letter in a word"
   ]
  },
  {
   "cell_type": "code",
   "execution_count": 12,
   "metadata": {},
   "outputs": [
    {
     "name": "stdout",
     "output_type": "stream",
     "text": [
      "A\n",
      "n\n",
      "t\n",
      "a\n",
      "r\n",
      "c\n",
      "t\n",
      "i\n",
      "c\n",
      "a\n"
     ]
    }
   ],
   "source": [
    "word = \"Antarctica\"\n",
    "for i in range (len(word)):\n",
    "    print(word[i])"
   ]
  },
  {
   "cell_type": "markdown",
   "metadata": {},
   "source": [
    "using a for loop count how many times the letter e is in a word"
   ]
  },
  {
   "cell_type": "code",
   "execution_count": 18,
   "metadata": {},
   "outputs": [
    {
     "name": "stdout",
     "output_type": "stream",
     "text": [
      "3\n"
     ]
    }
   ],
   "source": [
    "word = input (\"enter a word\")\n",
    "count = 0\n",
    "for i in range (len(word)):\n",
    "    if (word [i]==\"e\"):\n",
    "        count=count+1\n",
    "print (count) \n",
    "\n",
    "\n",
    "# for i in word:\n",
    "#     if(i == \"e\"):\n",
    "#         count = count + 1\n",
    "# print(count)"
   ]
  },
  {
   "cell_type": "markdown",
   "metadata": {},
   "source": [
    "Using a for loop and .append() method append each item with a Dr. prefix to the lst.\n",
    "\n",
    "\n"
   ]
  },
  {
   "cell_type": "code",
   "execution_count": 22,
   "metadata": {},
   "outputs": [
    {
     "name": "stdout",
     "output_type": "stream",
     "text": [
      "['', 'DRPhil', 'DROz', 'DRSeuss', 'DRDre']\n"
     ]
    }
   ],
   "source": [
    "list1=[\"Phil\", \"Oz\", \"Seuss\", \"Dre\"]\n",
    "list2 = [\"\"]\n",
    "\n",
    "#list2.append(\"something\")\n",
    "#your code goes here\n",
    "for name in list1:\n",
    "    newName = \"DR\" + name\n",
    "    list2.append(newName)\n",
    "print(list2)\n"
   ]
  },
  {
   "cell_type": "markdown",
   "metadata": {},
   "source": [
    "Using a for loop append each number to a new list if the number is positive\n"
   ]
  },
  {
   "cell_type": "code",
   "execution_count": 23,
   "metadata": {},
   "outputs": [
    {
     "name": "stdout",
     "output_type": "stream",
     "text": [
      "[5, 6, 3, 1, 2]\n"
     ]
    }
   ],
   "source": [
    "\n",
    "oldList = [5,-2,-4,6,3,1,-9,2,-3]\n",
    "positiveList = []\n",
    "\n",
    "#your code goes here\n",
    "for num in oldList:\n",
    "    if (num  > 0 ):\n",
    "        positiveList.append(num)\n",
    "print(positiveList)"
   ]
  },
  {
   "cell_type": "markdown",
   "metadata": {},
   "source": [
    "write a loop that will print the sum of all the numbers before it and itself\n",
    "\n",
    "e.g. \n",
    "- 3 - > 1+2+3 = 6\n",
    "\n",
    "- 8 -> 1+2+3+4+5+6+7+8 = 36"
   ]
  },
  {
   "cell_type": "code",
   "execution_count": 29,
   "metadata": {},
   "outputs": [
    {
     "name": "stdout",
     "output_type": "stream",
     "text": [
      "6\n"
     ]
    }
   ],
   "source": [
    "number = 4\n",
    "sum = 0\n",
    "for i in range(number):\n",
    "    sum = sum + i\n",
    "print(sum)"
   ]
  },
  {
   "cell_type": "markdown",
   "metadata": {},
   "source": [
    "Write a program that prints the multiplcation table of a number up to 12\n",
    "\n",
    "i.e. 3 -> 3 6 9 12 15 18 21 24 27 30 33 36"
   ]
  },
  {
   "cell_type": "code",
   "execution_count": 31,
   "metadata": {},
   "outputs": [
    {
     "name": "stdout",
     "output_type": "stream",
     "text": [
      "0\n",
      "3\n",
      "6\n",
      "9\n",
      "12\n",
      "15\n",
      "18\n",
      "21\n",
      "24\n",
      "27\n",
      "30\n",
      "33\n",
      "36\n"
     ]
    }
   ],
   "source": [
    "number = 3\n",
    "for i in range(13):\n",
    "   \n",
    "    print( number * i)\n",
    "\n"
   ]
  },
  {
   "cell_type": "markdown",
   "metadata": {},
   "source": [
    "Given a list print the sum of the list"
   ]
  },
  {
   "cell_type": "code",
   "execution_count": 32,
   "metadata": {},
   "outputs": [
    {
     "name": "stdout",
     "output_type": "stream",
     "text": [
      "23\n"
     ]
    }
   ],
   "source": [
    "listOfNums = [4,5,2,3,9] # sum = 2\n",
    "sum=0\n",
    "for num in listOfNums:\n",
    "    sum = sum + num\n",
    "print(sum)\n",
    "\n"
   ]
  },
  {
   "cell_type": "markdown",
   "metadata": {},
   "source": [
    "Write a program that prints the square (multiplied by its self) of each number in a list\n"
   ]
  },
  {
   "cell_type": "code",
   "execution_count": null,
   "metadata": {},
   "outputs": [],
   "source": [
    "numbersToBeSquared = [2,5,9,3]"
   ]
  },
  {
   "cell_type": "markdown",
   "metadata": {},
   "source": [
    "find the factorial of a given number\n",
    "\n",
    "i.e.\n",
    "- 4! = 4* 3* 2* 1\n",
    "\n",
    "- 8! = 8 * 7 * 6 * 5 *4 * 3 * 2 * 1"
   ]
  },
  {
   "cell_type": "code",
   "execution_count": null,
   "metadata": {},
   "outputs": [],
   "source": []
  },
  {
   "cell_type": "markdown",
   "metadata": {},
   "source": [
    "Write a program that counts the number of odd and even numbers in a list"
   ]
  },
  {
   "cell_type": "code",
   "execution_count": null,
   "metadata": {},
   "outputs": [],
   "source": [
    "nums = [1,5,6,2,4,9,3] # odds = 4 even = 3\n",
    "oddCount = 0\n",
    "evenCount = 0 \n",
    "\n"
   ]
  },
  {
   "cell_type": "markdown",
   "metadata": {},
   "source": [
    "Write a program to find the Fibonacci sequence up to 50\n",
    "\n",
    "The Fibonacci Sequence is the series of numbers :\n",
    "0, 1, 1, 2, 3, 5, 8, 13, 21, ..."
   ]
  },
  {
   "cell_type": "code",
   "execution_count": null,
   "metadata": {},
   "outputs": [],
   "source": [
    "previousNum = 0 \n",
    "currentNum = 1\n",
    "print(\"0\")\n",
    "print(\"1\")\n",
    "for i in range (48):\n",
    "    # your code goes here\n",
    "    pass\n",
    "\n",
    "#7778742049"
   ]
  },
  {
   "cell_type": "markdown",
   "metadata": {},
   "source": [
    "Write a program which prints the fizz buzz sequence up to 50\n",
    "\n",
    "- fizz = divisible by 3  \n",
    "- buzz = divisible by 5\n",
    "- fizz buzz = divisible by both\n",
    "\n",
    "hint : when num % 3 == 0 it is divisible by 3"
   ]
  },
  {
   "cell_type": "code",
   "execution_count": null,
   "metadata": {},
   "outputs": [],
   "source": []
  },
  {
   "cell_type": "markdown",
   "metadata": {},
   "source": [
    "https://www.w3resource.com/python-exercises/python-conditional-statements-and-loop-exercises.php"
   ]
  }
 ],
 "metadata": {
  "interpreter": {
   "hash": "68a4255ffac02f175910f4ac8746557d0bd2381bbe75a048e653626df842db98"
  },
  "kernelspec": {
   "display_name": "Python 3.10.4 64-bit",
   "language": "python",
   "name": "python3"
  },
  "language_info": {
   "codemirror_mode": {
    "name": "ipython",
    "version": 3
   },
   "file_extension": ".py",
   "mimetype": "text/x-python",
   "name": "python",
   "nbconvert_exporter": "python",
   "pygments_lexer": "ipython3",
   "version": "3.10.4"
  },
  "orig_nbformat": 4
 },
 "nbformat": 4,
 "nbformat_minor": 2
}
