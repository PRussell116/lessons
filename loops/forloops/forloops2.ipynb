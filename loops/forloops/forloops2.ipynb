{
 "cells": [
  {
   "cell_type": "code",
   "execution_count": null,
   "metadata": {},
   "outputs": [],
   "source": [
    "listOfNames = [\"alice\",\"bob\",\"charlie\"]\n",
    "\n",
    "for name in listOfNames: \n",
    "    print(name)\n",
    "\n",
    "print(\"loop just ended\")"
   ]
  },
  {
   "cell_type": "markdown",
   "metadata": {},
   "source": [
    "Print hello to each of the names in the list \n",
    "\n",
    "i.e Hello Bob"
   ]
  },
  {
   "cell_type": "code",
   "execution_count": 1,
   "metadata": {},
   "outputs": [
    {
     "name": "stdout",
     "output_type": "stream",
     "text": [
      "HelloAlice\n",
      "HelloBob\n",
      "HelloCharlie\n",
      "HelloDan\n"
     ]
    }
   ],
   "source": [
    "listOfNames = [\"Alice\",\"Bob\",\"Charlie\",\"Dan\"]\n",
    "for name in listOfNames:\n",
    "    print (\"Hello \" + name)"
   ]
  },
  {
   "cell_type": "markdown",
   "metadata": {},
   "source": [
    "Print the first letter of each name in the List"
   ]
  },
  {
   "cell_type": "code",
   "execution_count": 2,
   "metadata": {},
   "outputs": [
    {
     "name": "stdout",
     "output_type": "stream",
     "text": [
      "A\n",
      "B\n",
      "C\n",
      "D\n"
     ]
    }
   ],
   "source": [
    "listOfNames = [\"Alice\",\"Bob\",\"Charlie\",\"Dan\"]\n",
    "for name in listOfNames:\n",
    "    firstLetter = name[0]\n",
    "    print (firstLetter)"
   ]
  },
  {
   "cell_type": "markdown",
   "metadata": {},
   "source": [
    "Print the length of each name in the list"
   ]
  },
  {
   "cell_type": "code",
   "execution_count": null,
   "metadata": {},
   "outputs": [],
   "source": [
    "listOfNames = [\"Alice\",\"Bob\",\"Charlie\",\"Dan\"]\n",
    "for name in listOfNames:\n",
    "    print(len(name))"
   ]
  },
  {
   "cell_type": "markdown",
   "metadata": {},
   "source": [
    "Print the names which are 3 characters long"
   ]
  },
  {
   "cell_type": "code",
   "execution_count": null,
   "metadata": {},
   "outputs": [],
   "source": [
    "listOfNames = [\"Alice\",\"Bob\",\"Charlie\",\"Dan\"]\n",
    "for name in listOfNames:\n",
    "    if len(name) == 3:\n",
    "        print(name)"
   ]
  },
  {
   "cell_type": "markdown",
   "metadata": {},
   "source": [
    "print true if there is a number greater than 25 in the list"
   ]
  },
  {
   "cell_type": "code",
   "execution_count": null,
   "metadata": {},
   "outputs": [],
   "source": [
    "listOfNums = [2,5,6,1,3,42,45,12,9]\n",
    "for num in listOfNums:\n",
    "    if num>25:\n",
    "        print (\"True\")"
   ]
  },
  {
   "cell_type": "markdown",
   "metadata": {},
   "source": [
    "print all numbers in the list greater than 5"
   ]
  },
  {
   "cell_type": "code",
   "execution_count": 3,
   "metadata": {},
   "outputs": [
    {
     "name": "stdout",
     "output_type": "stream",
     "text": [
      "6\n",
      "42\n",
      "45\n",
      "12\n",
      "9\n"
     ]
    }
   ],
   "source": [
    "listOfNums = [2,5,6,1,3,42,45,12,9]\n",
    "for num in listOfNums:\n",
    "    if num>5:\n",
    "        print (num)\n"
   ]
  },
  {
   "cell_type": "markdown",
   "metadata": {},
   "source": [
    "Print hello to all the people in the list whose name starts with a"
   ]
  },
  {
   "cell_type": "code",
   "execution_count": 4,
   "metadata": {},
   "outputs": [
    {
     "name": "stdout",
     "output_type": "stream",
     "text": [
      "Helloalex\n",
      "Helloalice\n",
      "Helloandy\n",
      "Helloalexa\n"
     ]
    }
   ],
   "source": [
    "listOfNames = [\"alex\",\"bob\",\"alice\",\"andy\",\"barry\",\"alexa\",\"bobby\",\"barbra\"] \n",
    "for name in listOfNames:\n",
    "    if name[0]==\"a\":\n",
    "        print(\"Hello\"+ name)"
   ]
  },
  {
   "cell_type": "markdown",
   "metadata": {},
   "source": [
    "print hello to all the people whose names start with A **AND** print \"4\" if their name is exactly 4 characters long"
   ]
  },
  {
   "cell_type": "code",
   "execution_count": 5,
   "metadata": {},
   "outputs": [
    {
     "name": "stdout",
     "output_type": "stream",
     "text": [
      "alex\n",
      "andy\n"
     ]
    }
   ],
   "source": [
    "listOfNames = [\"alex\",\"bob\",\"alice\",\"andy\",\"barry\",\"alexa\",\"bobby\",\"barbra\"] \n",
    "for name in listOfNames:\n",
    "    if name[0]==\"a\" and len(name)==4:\n",
    "        print (name)"
   ]
  },
  {
   "cell_type": "markdown",
   "metadata": {},
   "source": [
    "check if barry is in the list, if he is print hello barry, if not print no barry"
   ]
  },
  {
   "cell_type": "code",
   "execution_count": 6,
   "metadata": {},
   "outputs": [
    {
     "name": "stdout",
     "output_type": "stream",
     "text": [
      "hello barry\n"
     ]
    }
   ],
   "source": [
    "listOfNames = [\"alex\",\"bob\",\"alice\",\"andy\",\"barry\",\"alexa\",\"bobby\",\"barbra\"] \n",
    "isBarryInList = False\n",
    "for name in listOfNames:\n",
    "    if name ==\"barry\":\n",
    "        isBarryInList = True\n",
    "if(isBarryInList == True){\n",
    "    print(\"hello b\")\n",
    "}else{\n",
    "    print(\"not in \")\n",
    "}"
   ]
  },
  {
   "cell_type": "markdown",
   "metadata": {},
   "source": [
    "Count how many times 7 is in a list"
   ]
  },
  {
   "cell_type": "code",
   "execution_count": 8,
   "metadata": {},
   "outputs": [
    {
     "name": "stdout",
     "output_type": "stream",
     "text": [
      "0\n",
      "1\n",
      "1\n",
      "1\n",
      "2\n",
      "2\n",
      "2\n",
      "2\n",
      "2\n",
      "2\n",
      "3\n",
      "3\n"
     ]
    }
   ],
   "source": [
    "listOfNums = [3,7,23,24,7,12,77,12,9,3,7,2] # 3\n",
    "counter = 0\n",
    "for num in listOfNums:\n",
    "    if num==7:\n",
    "        counter = counter + 1\n",
    "print(counter)"
   ]
  },
  {
   "cell_type": "markdown",
   "metadata": {},
   "source": [
    "Print all the even numbers in the list\n",
    "\n",
    "hint : when even numbers are mod 2 they equal 0. i.e 20 % 2 == 0"
   ]
  },
  {
   "cell_type": "code",
   "execution_count": 9,
   "metadata": {},
   "outputs": [
    {
     "name": "stdout",
     "output_type": "stream",
     "text": [
      "2\n",
      "4\n",
      "6\n",
      "6\n"
     ]
    }
   ],
   "source": [
    "listOfNums = [2,4,6,7,1,3,6,7,9]\n",
    "for num in listOfNums:\n",
    "    if num%2 == 0:\n",
    "        print(num)\n"
   ]
  },
  {
   "cell_type": "markdown",
   "metadata": {},
   "source": [
    "Add all the even numbers in the list and print the total"
   ]
  },
  {
   "cell_type": "code",
   "execution_count": 11,
   "metadata": {},
   "outputs": [
    {
     "name": "stdout",
     "output_type": "stream",
     "text": [
      "18\n"
     ]
    }
   ],
   "source": [
    "listOfNums = [2,4,6,7,1,3,6,7,9]\n",
    "#18\n",
    "sum=0\n",
    "for num in listOfNums:\n",
    "    if num%2 == 0:\n",
    "        sum=sum+num\n",
    "print (sum)"
   ]
  },
  {
   "cell_type": "markdown",
   "metadata": {},
   "source": [
    "Multiply each number by 5 and print the result"
   ]
  },
  {
   "cell_type": "code",
   "execution_count": 12,
   "metadata": {},
   "outputs": [
    {
     "name": "stdout",
     "output_type": "stream",
     "text": [
      "2\n",
      "4\n",
      "6\n",
      "7\n",
      "1\n",
      "3\n",
      "6\n",
      "7\n",
      "9\n"
     ]
    }
   ],
   "source": [
    "listOfNums= [2,4,6,7,1,3,6,7,9]\n",
    "for num in listOfNums:\n",
    "    print(num*5)"
   ]
  },
  {
   "cell_type": "markdown",
   "metadata": {},
   "source": [
    "Square each number in the array (multiply by itself)"
   ]
  },
  {
   "cell_type": "code",
   "execution_count": 13,
   "metadata": {},
   "outputs": [
    {
     "name": "stdout",
     "output_type": "stream",
     "text": [
      "4\n",
      "16\n",
      "36\n",
      "49\n",
      "1\n",
      "9\n",
      "36\n",
      "49\n",
      "81\n"
     ]
    }
   ],
   "source": [
    "listOfNums = [2,4,6,7,1,3,6,7,9]\n",
    "for num in listOfNums:\n",
    "    print(num*num)"
   ]
  },
  {
   "cell_type": "markdown",
   "metadata": {},
   "source": [
    "Find the largest number in the list"
   ]
  },
  {
   "cell_type": "code",
   "execution_count": 18,
   "metadata": {},
   "outputs": [
    {
     "name": "stdout",
     "output_type": "stream",
     "text": [
      "31\n"
     ]
    }
   ],
   "source": [
    "currentLargest = 0\n",
    "array = [2,5,3,1,4,5,5,6,7,8,31,2,32,3]\n",
    "for num in listOfNums:\n",
    "    if num>currentLargest:\n",
    "        currentLargest = num\n",
    "print(array[currentLargest+1])"
   ]
  }
 ],
 "metadata": {
  "interpreter": {
   "hash": "68a4255ffac02f175910f4ac8746557d0bd2381bbe75a048e653626df842db98"
  },
  "kernelspec": {
   "display_name": "Python 3.10.4 64-bit",
   "language": "python",
   "name": "python3"
  },
  "language_info": {
   "codemirror_mode": {
    "name": "ipython",
    "version": 3
   },
   "file_extension": ".py",
   "mimetype": "text/x-python",
   "name": "python",
   "nbconvert_exporter": "python",
   "pygments_lexer": "ipython3",
   "version": "3.10.4"
  },
  "orig_nbformat": 4
 },
 "nbformat": 4,
 "nbformat_minor": 2
}
