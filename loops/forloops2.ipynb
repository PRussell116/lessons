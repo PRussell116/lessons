{
 "cells": [
  {
   "cell_type": "markdown",
   "metadata": {},
   "source": [
    "Add five to the number varible 600 times using a loop"
   ]
  },
  {
   "cell_type": "code",
   "execution_count": 1,
   "metadata": {},
   "outputs": [
    {
     "name": "stdout",
     "output_type": "stream",
     "text": [
      "3042\n"
     ]
    }
   ],
   "source": [
    "number = 42\n",
    "\n",
    "#3042"
   ]
  },
  {
   "cell_type": "markdown",
   "metadata": {},
   "source": [
    "Divide a number by 2 70 times"
   ]
  },
  {
   "cell_type": "code",
   "execution_count": 4,
   "metadata": {},
   "outputs": [
    {
     "name": "stdout",
     "output_type": "stream",
     "text": [
      "0.6638611608955197\n"
     ]
    }
   ],
   "source": [
    "number = 783748923872983759825\n",
    "\n",
    "#0.6638611608955197"
   ]
  },
  {
   "cell_type": "markdown",
   "metadata": {},
   "source": [
    "Add \"and then\" to a sentence 9000 times"
   ]
  },
  {
   "cell_type": "code",
   "execution_count": null,
   "metadata": {},
   "outputs": [],
   "source": []
  },
  {
   "cell_type": "markdown",
   "metadata": {},
   "source": [
    "print true if there is a number greater than 25 in the list"
   ]
  },
  {
   "cell_type": "code",
   "execution_count": null,
   "metadata": {},
   "outputs": [],
   "source": [
    "numbers = [2,5,6,1,3,42,45,12,9]"
   ]
  },
  {
   "cell_type": "markdown",
   "metadata": {},
   "source": [
    "Add 5 to each number in the list"
   ]
  },
  {
   "cell_type": "code",
   "execution_count": null,
   "metadata": {},
   "outputs": [],
   "source": [
    "numbers = [1,2,3,47,8,90,24,31]"
   ]
  },
  {
   "cell_type": "markdown",
   "metadata": {},
   "source": [
    "print all numbers in the list greater than 5"
   ]
  },
  {
   "cell_type": "code",
   "execution_count": null,
   "metadata": {},
   "outputs": [],
   "source": []
  },
  {
   "cell_type": "markdown",
   "metadata": {},
   "source": [
    "For each number in the list\n",
    "\n",
    "- if greater than 10 divide it by 2\n",
    "\n",
    "- if it is less than 10 + 4"
   ]
  },
  {
   "cell_type": "code",
   "execution_count": null,
   "metadata": {},
   "outputs": [],
   "source": [
    "numbers = [3,12,9,10,4,21,60,23] "
   ]
  },
  {
   "cell_type": "markdown",
   "metadata": {},
   "source": [
    "Print hello to all the people in the list whose names start with A"
   ]
  },
  {
   "cell_type": "code",
   "execution_count": null,
   "metadata": {},
   "outputs": [],
   "source": [
    "names = [\"alex\",\"bob\",\"alice\",\"andy\",\"barry\",\"alexa\",\"bobby\",\"barbra\"] "
   ]
  },
  {
   "cell_type": "markdown",
   "metadata": {},
   "source": [
    "print hello to all the people whose names start with A **AND** print \"4\" if their name is exactly 4 characters long"
   ]
  },
  {
   "cell_type": "code",
   "execution_count": null,
   "metadata": {},
   "outputs": [],
   "source": [
    "names = [\"alex\",\"bob\",\"alice\",\"andy\",\"barry\",\"alexa\",\"bobby\",\"barbra\"] "
   ]
  },
  {
   "cell_type": "markdown",
   "metadata": {},
   "source": [
    "check if barry is in the list, if he is print hello barry, if not print no barry"
   ]
  },
  {
   "cell_type": "code",
   "execution_count": null,
   "metadata": {},
   "outputs": [],
   "source": [
    "names = [\"alex\",\"bob\",\"alice\",\"andy\",\"barry\",\"alexa\",\"bobby\",\"barbra\"] "
   ]
  },
  {
   "cell_type": "markdown",
   "metadata": {},
   "source": [
    "Print all the even numbers in the list\n",
    "\n",
    "hint : when even numbers are mod 2 they equal 0. i.e 20 % 2 == 0"
   ]
  },
  {
   "cell_type": "code",
   "execution_count": null,
   "metadata": {},
   "outputs": [],
   "source": [
    "numbers = [2,4,6,7,1,3,6,7,9]\n"
   ]
  },
  {
   "cell_type": "markdown",
   "metadata": {},
   "source": [
    "Add all the even numbers in the list and print the sum"
   ]
  },
  {
   "cell_type": "code",
   "execution_count": 6,
   "metadata": {},
   "outputs": [
    {
     "name": "stdout",
     "output_type": "stream",
     "text": [
      "18\n"
     ]
    }
   ],
   "source": [
    "numbers = [2,4,6,7,1,3,6,7,9]\n",
    "#18"
   ]
  },
  {
   "cell_type": "markdown",
   "metadata": {},
   "source": [
    "Multiply each number by 5 and print the result"
   ]
  },
  {
   "cell_type": "code",
   "execution_count": null,
   "metadata": {},
   "outputs": [],
   "source": [
    "numbers = [2,4,6,7,1,3,6,7,9]"
   ]
  },
  {
   "cell_type": "markdown",
   "metadata": {},
   "source": [
    "Square each number in the array (multiply by itself)"
   ]
  },
  {
   "cell_type": "code",
   "execution_count": null,
   "metadata": {},
   "outputs": [],
   "source": [
    "numbers = [2,4,6,7,1,3,6,7,9]"
   ]
  },
  {
   "cell_type": "markdown",
   "metadata": {},
   "source": [
    "Find the largest number in the list"
   ]
  },
  {
   "cell_type": "code",
   "execution_count": null,
   "metadata": {},
   "outputs": [],
   "source": [
    "currentLargest = 0\n",
    "array = [2,5,3,1,4,5,5,6,7,8,9,2,32,3]"
   ]
  },
  {
   "cell_type": "markdown",
   "metadata": {},
   "source": [
    "Count how many times 7 is in a list"
   ]
  },
  {
   "cell_type": "code",
   "execution_count": null,
   "metadata": {},
   "outputs": [],
   "source": [
    "array = [3,7,23,24,7,12,77,12,9,3,7,2] # 3"
   ]
  },
  {
   "cell_type": "markdown",
   "metadata": {},
   "source": [
    "Given a number find the factorial of the number \n",
    "\n",
    "factorial is that number times by all the numbers before it i.e 4! = 4 * 3 * 2 * 1"
   ]
  },
  {
   "cell_type": "code",
   "execution_count": null,
   "metadata": {},
   "outputs": [],
   "source": [
    "num = 4"
   ]
  }
 ],
 "metadata": {
  "interpreter": {
   "hash": "68a4255ffac02f175910f4ac8746557d0bd2381bbe75a048e653626df842db98"
  },
  "kernelspec": {
   "display_name": "Python 3.10.4 64-bit",
   "language": "python",
   "name": "python3"
  },
  "language_info": {
   "codemirror_mode": {
    "name": "ipython",
    "version": 3
   },
   "file_extension": ".py",
   "mimetype": "text/x-python",
   "name": "python",
   "nbconvert_exporter": "python",
   "pygments_lexer": "ipython3",
   "version": "3.10.4"
  },
  "orig_nbformat": 4
 },
 "nbformat": 4,
 "nbformat_minor": 2
}
